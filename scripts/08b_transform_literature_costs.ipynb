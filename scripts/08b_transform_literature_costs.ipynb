{
 "cells": [
  {
   "cell_type": "markdown",
   "metadata": {},
   "source": [
    "# 08b: Transform costs from literature\n",
    "\n",
    "In this script, we transform the environmental external costs from literature sources (for electricity production) into common units."
   ]
  },
  {
   "cell_type": "code",
   "execution_count": 20,
   "metadata": {},
   "outputs": [],
   "source": [
    "%run common_definitions.py"
   ]
  },
  {
   "cell_type": "code",
   "execution_count": 21,
   "metadata": {},
   "outputs": [],
   "source": [
    "import pandas as pd\n",
    "import numpy as np"
   ]
  },
  {
   "cell_type": "markdown",
   "metadata": {},
   "source": [
    "### Load data files"
   ]
  },
  {
   "cell_type": "markdown",
   "metadata": {},
   "source": [
    "Sovacool et al:"
   ]
  },
  {
   "cell_type": "code",
   "execution_count": 22,
   "metadata": {},
   "outputs": [
    {
     "name": "stderr",
     "output_type": "stream",
     "text": [
      "C:\\Users\\davidba\\AppData\\Local\\Temp\\ipykernel_13924\\1014973640.py:1: ParserWarning: Falling back to the 'python' engine because the separator encoded in utf-8 is > 1 char long, and the 'c' engine does not support such separators; you can avoid this warning by specifying engine='python'.\n",
      "  df1 = pd.read_csv(\"../data/external_costs_sovacool.csv\", delimiter=\"§\")\n"
     ]
    }
   ],
   "source": [
    "df1 = pd.read_csv(\"../data/external_costs_sovacool.csv\", delimiter=\"§\")\n",
    "df1 = df1[df1[\"Unit\"] == \"US¢/kWh\"]\n",
    "df1[\"Central Estimate ($2018)\"] = df1[\"Central Estimate ($2018)\"].astype(float)\n",
    "df1[\"source name\"] = \"Sovacool et al\"\n",
    "df1[\"year\"] = 2018\n",
    "df1[\"cost\"] = df1[\"Central Estimate ($2018)\"] / 100\n",
    "df1[\"unit\"] = \"kWh\"\n",
    "df1[\"currency\"] = \"dollar\"\n",
    "df1[\"index\"] = df1.index"
   ]
  },
  {
   "cell_type": "code",
   "execution_count": 23,
   "metadata": {},
   "outputs": [
    {
     "data": {
      "text/plain": [
       "array(['Coal', 'Gas', 'Oil', 'Nuclear', 'Wind', 'PV', 'Biomass Power',\n",
       "       'Solar Thermal', 'Hydro', 'Biogas Power', 'Fossil Fuels',\n",
       "       'Lignite', 'Waste Incineration', 'Peat', 'Geothermal', 'Fuel Cell',\n",
       "       'All power generation', 'Coal and Nuclear'], dtype=object)"
      ]
     },
     "execution_count": 23,
     "metadata": {},
     "output_type": "execute_result"
    }
   ],
   "source": [
    "df1[\"Target\"].unique()"
   ]
  },
  {
   "cell_type": "code",
   "execution_count": 24,
   "metadata": {},
   "outputs": [],
   "source": [
    "mapping_techs = {\n",
    "    \"Coal\": \"hard coal power plant\",\n",
    "    \"Gas\": \"natural gas power plant\",\n",
    "    \"Oil\": \"oil power plant\",\n",
    "    \"Nuclear\": \"nuclear, pressure water reactor\",\n",
    "    \"Wind\": \"wind, onshore, medium\",\n",
    "    \"PV\": \"PV commercial\",\n",
    "    \"Biomass Power\": \"wood CHP modern\",\n",
    "    \"Solar Thermal\": \"CSP, tower\",\n",
    "    \"Hydro\": \"hydro, reservoir, alpine region\",\n",
    "    \"Lignite\": \"lignite power plant\",\n",
    "    \"Geothermal\": \"geothermal\"\n",
    "}"
   ]
  },
  {
   "cell_type": "code",
   "execution_count": 25,
   "metadata": {},
   "outputs": [],
   "source": [
    "df1 = df1[df1[\"Target\"].isin(list(mapping_techs.keys()))]\n",
    "df1[\"short name\"] = df1[\"Target\"].apply(lambda x: mapping_techs[x])"
   ]
  },
  {
   "cell_type": "markdown",
   "metadata": {},
   "source": [
    "NEEDS project. We select the 2025 technology year."
   ]
  },
  {
   "cell_type": "code",
   "execution_count": 26,
   "metadata": {},
   "outputs": [],
   "source": [
    "df2 = pd.read_csv(\"../data/external_costs_NEEDS.csv\").fillna(0)\n",
    "df2 = df2[df2[\"technology year\"] == 2025]"
   ]
  },
  {
   "cell_type": "markdown",
   "metadata": {},
   "source": [
    "Create four different summations with the climate change impacts."
   ]
  },
  {
   "cell_type": "code",
   "execution_count": 27,
   "metadata": {},
   "outputs": [],
   "source": [
    "cc_variants = [\"damage costs low\", \"damage costs high\", \"abatement costs low\", \"abatement costs high\"]\n",
    "other_ics = [\"health impacts\", \"biodiversity\", \"crop yield losses\", \"material damage\", \"land use\"]"
   ]
  },
  {
   "cell_type": "code",
   "execution_count": 28,
   "metadata": {},
   "outputs": [],
   "source": [
    "df2_pivot = df2.pivot(columns=\"impact category\", values=\"cost\", index=\"short name\")"
   ]
  },
  {
   "cell_type": "code",
   "execution_count": 29,
   "metadata": {},
   "outputs": [],
   "source": [
    "data = {}\n",
    "for v in cc_variants:\n",
    "    data[v] = df2_pivot[other_ics+[\"climate change, \"+v]].sum(axis=1).to_numpy()\n",
    "\n",
    "df2_new = pd.DataFrame(\n",
    "    data,\n",
    "    index = df2_pivot.index\n",
    ").melt(var_name=\"index\", value_name=\"cost\", ignore_index=False).reset_index()"
   ]
  },
  {
   "cell_type": "code",
   "execution_count": 30,
   "metadata": {},
   "outputs": [],
   "source": [
    "df2_new[\"unit\"] = \"kWh\"\n",
    "df2_new[\"currency\"] = \"euro\"\n",
    "df2_new[\"year\"] = 2000\n",
    "df2_new[\"source name\"] = \"NEEDS\""
   ]
  },
  {
   "cell_type": "code",
   "execution_count": 31,
   "metadata": {},
   "outputs": [],
   "source": [
    "df3 = pd.read_csv(\"../data/external_costs_trinomics.csv\")\n",
    "df3[\"index\"] = 0"
   ]
  },
  {
   "cell_type": "markdown",
   "metadata": {},
   "source": [
    "### Combine all sources"
   ]
  },
  {
   "cell_type": "code",
   "execution_count": 32,
   "metadata": {},
   "outputs": [],
   "source": [
    "df = pd.concat(\n",
    "    (\n",
    "        df1[[\"source name\", \"short name\", \"index\", \"unit\", \"currency\", \"year\", \"cost\"]],\n",
    "        df2_new[[\"source name\", \"short name\", \"index\", \"unit\", \"currency\", \"year\", \"cost\"]],\n",
    "        df3[[\"source name\", \"short name\", \"index\", \"unit\", \"currency\", \"year\", \"cost\"]]\n",
    "    ),\n",
    "    axis=0,\n",
    ")"
   ]
  },
  {
   "cell_type": "markdown",
   "metadata": {},
   "source": [
    "### Transform currency units\n",
    "\n",
    "Here, we first adjust for inflation, then convert to euros."
   ]
  },
  {
   "cell_type": "code",
   "execution_count": 33,
   "metadata": {},
   "outputs": [],
   "source": [
    "HICP = pd.read_csv(\"../data/HICPdata.csv\").set_index(\"year\")\n",
    "HICP = HICP[\"average HICP\"]\n",
    "PPP = pd.read_csv(\"../data/PPPdata.csv\").set_index(\"year\")[\"PPP\"]\n",
    "CPI = pd.read_csv(\"../data/CPI_US.csv\").set_index(\"year\")[\"CPI\"]\n",
    "\n",
    "def convert_to_euros(currency, year, target_year):\n",
    "    if currency == \"euro\":\n",
    "        return HICP[target_year] / HICP[year]\n",
    "    if currency == \"dollar\":\n",
    "        if year in PPP.index:\n",
    "            # adjust for inflation, then convert currency\n",
    "            return PPP[target_year] * (CPI[target_year] / CPI[year])\n",
    "        else:\n",
    "            # convert to last year in PPP data\n",
    "            last_year = max(PPP.index)\n",
    "            return (HICP[target_year] / HICP[last_year]) * PPP[last_year] * (CPI[last_year]/CPI[year])"
   ]
  },
  {
   "cell_type": "code",
   "execution_count": 34,
   "metadata": {},
   "outputs": [],
   "source": [
    "unit2MJ = {\n",
    "    \"MWh\": 3600,\n",
    "    \"GJ\": 1e03,\n",
    "    \"MJ\": 1.0,\n",
    "    \"kWh\": 3.6\n",
    "}"
   ]
  },
  {
   "cell_type": "code",
   "execution_count": 35,
   "metadata": {},
   "outputs": [],
   "source": [
    "df[\"conversion factor\"] = (df.apply(lambda x: convert_to_euros(x.currency, x.year, EURO_REF_YEAR), axis=1) \n",
    "                           / df[\"unit\"].map(unit2MJ))\n",
    "df[\"cost\"] = df[\"cost\"] * df[\"conversion factor\"]\n",
    "df[\"currency\"] = \"euro\"\n",
    "df[\"year\"] = EURO_REF_YEAR\n",
    "df[\"unit\"] = \"MJ\""
   ]
  },
  {
   "cell_type": "code",
   "execution_count": 36,
   "metadata": {},
   "outputs": [],
   "source": [
    "df.drop(\"conversion factor\", axis=1, inplace=True)\n",
    "df.to_csv(\"../data/external_costs_literature_EUR{}.csv\".format(EURO_REF_YEAR), index=False)"
   ]
  }
 ],
 "metadata": {
  "kernelspec": {
   "display_name": "mainenv",
   "language": "python",
   "name": "python3"
  },
  "language_info": {
   "codemirror_mode": {
    "name": "ipython",
    "version": 3
   },
   "file_extension": ".py",
   "mimetype": "text/x-python",
   "name": "python",
   "nbconvert_exporter": "python",
   "pygments_lexer": "ipython3",
   "version": "3.10.11"
  }
 },
 "nbformat": 4,
 "nbformat_minor": 2
}
