{
 "cells": [
  {
   "cell_type": "markdown",
   "metadata": {},
   "source": [
    "# 05: Perform LCIA\n",
    "\n",
    "In this script, we perform LCIA on the whole selection of technologies."
   ]
  },
  {
   "cell_type": "code",
   "execution_count": 4,
   "metadata": {},
   "outputs": [],
   "source": [
    "%run common_definitions.py"
   ]
  },
  {
   "cell_type": "code",
   "execution_count": 5,
   "metadata": {},
   "outputs": [],
   "source": [
    "import pandas as pd\n",
    "import bw2calc as bc\n",
    "import bw2data as bd\n",
    "\n",
    "import time\n",
    "import csv"
   ]
  },
  {
   "cell_type": "code",
   "execution_count": 6,
   "metadata": {},
   "outputs": [],
   "source": [
    "bd.projects.set_current(BW_PROJECTNAME_BATTERIES)\n",
    "output_fp = \"../output/\" + BW_PROJECTNAME"
   ]
  },
  {
   "cell_type": "markdown",
   "metadata": {},
   "source": [
    "### Search for activities"
   ]
  },
  {
   "cell_type": "code",
   "execution_count": 7,
   "metadata": {},
   "outputs": [],
   "source": [
    "def get_dbname(scen, year):\n",
    "    matches = [db for db in bd.databases if \"{}_{}\".format(scen, year) in db]\n",
    "\n",
    "    return matches[0]"
   ]
  },
  {
   "cell_type": "code",
   "execution_count": 9,
   "metadata": {},
   "outputs": [
    {
     "name": "stdout",
     "output_type": "stream",
     "text": [
      "2 activities found in database ei_cutoff_3.9_remind_SSP2-NPi_2020 2025-07-30\n",
      "2 activities found in database ei_cutoff_3.9_remind_SSP2-NPi_2030 2025-07-30\n",
      "2 activities found in database ei_cutoff_3.9_remind_SSP2-NPi_2040 2025-07-30\n",
      "2 activities found in database ei_cutoff_3.9_remind_SSP2-NPi_2050 2025-07-30\n",
      "2 activities found in database ei_cutoff_3.9_remind_SSP2-PkBudg650_2020 2025-07-30\n",
      "2 activities found in database ei_cutoff_3.9_remind_SSP2-PkBudg650_2030 2025-07-30\n",
      "2 activities found in database ei_cutoff_3.9_remind_SSP2-PkBudg650_2040 2025-07-30\n",
      "2 activities found in database ei_cutoff_3.9_remind_SSP2-PkBudg650_2050 2025-07-30\n"
     ]
    }
   ],
   "source": [
    "search_str = \"market for battery capacity, stationary\"\n",
    "\n",
    "activities = {}\n",
    "for scen in SCENARIOS_BATTERIES:\n",
    "    activities[scen] = {}\n",
    "    for year in YEARS:\n",
    "        dbname = get_dbname(scen, year)\n",
    "        db = bd.Database(dbname)\n",
    "        all_matches = [act for act in db if search_str in act[\"name\"]]\n",
    "        print(\"{} activities found in database {}\".format(len(all_matches), dbname))\n",
    "        activities[scen][year] = all_matches"
   ]
  },
  {
   "cell_type": "markdown",
   "metadata": {},
   "source": [
    "### Get needed LCIA methods"
   ]
  },
  {
   "cell_type": "code",
   "execution_count": 10,
   "metadata": {},
   "outputs": [],
   "source": [
    "df2 = pd.read_csv(\"../data/mfs_all_factors.csv\").dropna(subset=\"LCIA method\")"
   ]
  },
  {
   "cell_type": "code",
   "execution_count": 11,
   "metadata": {},
   "outputs": [],
   "source": [
    "needed_methods = list(df2[\"LCIA method\"].unique())\n",
    "methods = [m for m in list(bd.methods) if \", \".join(list(m)) in needed_methods]"
   ]
  },
  {
   "cell_type": "code",
   "execution_count": 12,
   "metadata": {},
   "outputs": [],
   "source": [
    "cc_methods = [\n",
    "    (\"IPCC 2021\", \"climate change: biogenic\", \"GWP 100a\"),\n",
    "    (\"IPCC 2021\", \"climate change: land use\", \"GWP 100a\"),\n",
    "    (\"IPCC 2021\", \"climate change: fossil\", \"GWP 100a\")\n",
    "]\n",
    "methods = methods + cc_methods"
   ]
  },
  {
   "cell_type": "code",
   "execution_count": 13,
   "metadata": {},
   "outputs": [
    {
     "name": "stdout",
     "output_type": "stream",
     "text": [
      "73 methods needed, 73 methods found\n"
     ]
    }
   ],
   "source": [
    "print(\"{} methods needed, {} methods found\".format(len(needed_methods)+len(cc_methods), len(methods)))"
   ]
  },
  {
   "cell_type": "markdown",
   "metadata": {},
   "source": [
    "### Set up file for LCIA output"
   ]
  },
  {
   "cell_type": "code",
   "execution_count": 19,
   "metadata": {},
   "outputs": [],
   "source": [
    "# open file for writing data\n",
    "with open(output_fp + \"/impacts_battery_storage.csv\", \"w\", newline='') as csvfile:\n",
    "    writer = csv.writer(csvfile, delimiter=',')\n",
    "    row = [\"ecoinvent name\",\n",
    "           \"location\", \"unit\", \"amount\", \"product\",\n",
    "           \"scenario\", \"year\",\n",
    "           ]\n",
    "    row += [\", \".join(list(m)) for m in methods]\n",
    "    writer.writerow(row)"
   ]
  },
  {
   "cell_type": "code",
   "execution_count": 20,
   "metadata": {},
   "outputs": [
    {
     "name": "stdout",
     "output_type": "stream",
     "text": [
      "'market for battery capacity, stationary (TC scenario)' (kilowatt hour, GLO, None) done.\n",
      "'market for battery capacity, stationary (CONT scenario)' (kilowatt hour, GLO, None) done.\n",
      "'market for battery capacity, stationary (TC scenario)' (kilowatt hour, GLO, None) done.\n",
      "'market for battery capacity, stationary (CONT scenario)' (kilowatt hour, GLO, None) done.\n",
      "'market for battery capacity, stationary (CONT scenario)' (kilowatt hour, GLO, None) done.\n",
      "'market for battery capacity, stationary (TC scenario)' (kilowatt hour, GLO, None) done.\n",
      "'market for battery capacity, stationary (CONT scenario)' (kilowatt hour, GLO, None) done.\n",
      "'market for battery capacity, stationary (TC scenario)' (kilowatt hour, GLO, None) done.\n",
      "'market for battery capacity, stationary (TC scenario)' (kilowatt hour, GLO, None) done.\n",
      "'market for battery capacity, stationary (CONT scenario)' (kilowatt hour, GLO, None) done.\n",
      "'market for battery capacity, stationary (TC scenario)' (kilowatt hour, GLO, None) done.\n",
      "'market for battery capacity, stationary (CONT scenario)' (kilowatt hour, GLO, None) done.\n",
      "'market for battery capacity, stationary (TC scenario)' (kilowatt hour, GLO, None) done.\n",
      "'market for battery capacity, stationary (CONT scenario)' (kilowatt hour, GLO, None) done.\n",
      "'market for battery capacity, stationary (TC scenario)' (kilowatt hour, GLO, None) done.\n",
      "'market for battery capacity, stationary (CONT scenario)' (kilowatt hour, GLO, None) done.\n"
     ]
    }
   ],
   "source": [
    "csvfile = open(output_fp + \"/impacts_battery_storage.csv\", \"a\", newline='')\n",
    "writer = csv.writer(csvfile, delimiter=',')\n",
    "\n",
    "for scen in SCENARIOS_BATTERIES:\n",
    "    for year in YEARS:\n",
    "        act_list = activities[scen][year]\n",
    "        functional_units = [{act: 1} for act in act_list]\n",
    "\n",
    "        new_setup = {\"inv\": functional_units, \"ia\": methods}\n",
    "        setup_name = \"battery_storage_{}_{}\".format(scen, year)\n",
    "        bd.calculation_setups[setup_name] = new_setup\n",
    "\n",
    "        for act in act_list:\n",
    "            lca = bc.LCA(demand={act: 1})\n",
    "            lca.lci()\n",
    "            scores = []\n",
    "            for m in methods:\n",
    "                lca.switch_method(m)\n",
    "                lca.lcia()\n",
    "                scores.append(lca.score)\n",
    "            print(\"{} done.\".format(str(act)))\n",
    "            row = [act[\"name\"],\n",
    "                act[\"location\"], act[\"unit\"], str(1), act[\"reference product\"],\n",
    "                scen, str(year)] + [str(score) for score in scores]\n",
    "            writer.writerow(row)         \n",
    "\n",
    "csvfile.close()"
   ]
  },
  {
   "cell_type": "code",
   "execution_count": null,
   "metadata": {},
   "outputs": [],
   "source": []
  }
 ],
 "metadata": {
  "kernelspec": {
   "display_name": "premise_bw2",
   "language": "python",
   "name": "python3"
  },
  "language_info": {
   "codemirror_mode": {
    "name": "ipython",
    "version": 3
   },
   "file_extension": ".py",
   "mimetype": "text/x-python",
   "name": "python",
   "nbconvert_exporter": "python",
   "pygments_lexer": "ipython3",
   "version": "3.11.11"
  }
 },
 "nbformat": 4,
 "nbformat_minor": 2
}
