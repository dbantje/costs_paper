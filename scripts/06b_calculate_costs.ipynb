{
 "cells": [
  {
   "cell_type": "markdown",
   "metadata": {},
   "source": [
    "# 06b: Calculate costs\n",
    "\n",
    "In this script, we calculate the following cost estimates for regional averages of impacts\n",
    "\n",
    "- low estimate (0.2 quantile)\n",
    "- median cost\n",
    "- damage costs\n",
    "- prevention costs\n",
    "- taxation costs\n",
    "- budget constraint"
   ]
  },
  {
   "cell_type": "code",
   "execution_count": 1,
   "metadata": {},
   "outputs": [],
   "source": [
    "%run common_definitions.py"
   ]
  },
  {
   "cell_type": "code",
   "execution_count": 2,
   "metadata": {},
   "outputs": [],
   "source": [
    "import pandas as pd\n",
    "import numpy as np\n",
    "import xarray as xr"
   ]
  },
  {
   "cell_type": "code",
   "execution_count": 3,
   "metadata": {},
   "outputs": [],
   "source": [
    "output_fp = \"../output/\" + BW_PROJECTNAME"
   ]
  },
  {
   "cell_type": "code",
   "execution_count": 4,
   "metadata": {},
   "outputs": [],
   "source": [
    "mfs_perspectives_cc = xr.open_dataarray(\"../data/mfs_perspectives_extended_euro_{}.nc\".format(EURO_REF_YEAR))\n",
    "mfs_mc_sample_cc = xr.open_dataarray(\"../data/mfs_monte_carlo_sample_extended_euro{}.nc\".format(str(EURO_REF_YEAR)))"
   ]
  },
  {
   "cell_type": "markdown",
   "metadata": {},
   "source": [
    "We calculate costs for the regional averages."
   ]
  },
  {
   "cell_type": "code",
   "execution_count": 5,
   "metadata": {},
   "outputs": [],
   "source": [
    "def get_quantile_costs(impact_df, q, mfs, contract_dim):\n",
    "    all_costs = xr.DataArray(\n",
    "        np.tensordot(impact_df[list(mfs.coords[\"LCIA method\"].values)].to_numpy(),\n",
    "                    mfs.to_numpy(),\n",
    "                    axes=([1,], [contract_dim,])),\n",
    "        coords={\n",
    "            \"tech index\": list(range(len(impact_df))),\n",
    "            \"impact category\": list(mfs.coords[\"impact category\"].values),\n",
    "            \"sample index\": list(range(mfs.shape[1]))\n",
    "        }\n",
    "    )\n",
    "\n",
    "    a = all_costs.to_numpy()\n",
    "    qcosts = np.where(np.all(a < 0, axis=2),\n",
    "                      np.quantile(a, 1-q, axis=2),\n",
    "                      np.quantile(a, q, axis=2))\n",
    "\n",
    "    return pd.DataFrame(qcosts,\n",
    "                        index=impact_df.index,\n",
    "                        columns=list(mfs.coords[\"impact category\"].values))\n",
    "\n",
    "def get_perspectives_cost(impact_df, mfs):\n",
    "    df_mfs = mfs_perspectives_cc.to_dataframe().reset_index().pivot(\n",
    "        index=[\"perspective\", \"impact category\"],\n",
    "        columns=[\"LCIA method\"],\n",
    "        values=\"value\")\n",
    "    \n",
    "    return pd.DataFrame(\n",
    "        np.tensordot(all_averages[df_mfs.columns].to_numpy(), df_mfs.to_numpy().T, axes=1),\n",
    "        index=all_averages.index,\n",
    "        columns=df_mfs.index\n",
    "    )\n"
   ]
  },
  {
   "cell_type": "markdown",
   "metadata": {},
   "source": [
    "### Full impacts"
   ]
  },
  {
   "cell_type": "code",
   "execution_count": 6,
   "metadata": {},
   "outputs": [],
   "source": [
    "all_averages = pd.read_csv(output_fp+\"/impacts_regional_averages.csv\").set_index(\n",
    "    [\"short name\", \"sector\", \"scenario\", \"year\", \"regional average\"])\n",
    "\n",
    "low_costs = get_quantile_costs(all_averages, 0.2, mfs_mc_sample_cc, 2)\n",
    "median_costs = get_quantile_costs(all_averages, 0.5, mfs_mc_sample_cc, 2)\n",
    "\n",
    "low_costs.reset_index(inplace=True)\n",
    "median_costs.reset_index(inplace=True)\n",
    "\n",
    "low_costs[\"perspective\"] = \"low estimate\"\n",
    "median_costs[\"perspective\"] = \"median\"\n",
    "\n",
    "perspectives_costs = get_perspectives_cost(all_averages, mfs_perspectives_cc)\n",
    "\n",
    "perspectives_costs = perspectives_costs.melt(ignore_index=False).reset_index().pivot(\n",
    "    columns=\"impact category\", values=\"value\",\n",
    "    index=[\"short name\", \"sector\", \"scenario\", \"year\", \"regional average\", \"perspective\"])\n",
    "\n",
    "costs_all_perspectives = pd.concat(\n",
    "    (\n",
    "        low_costs,\n",
    "        median_costs,\n",
    "        perspectives_costs.reset_index()\n",
    "    ),\n",
    "    axis=0\n",
    ").set_index([\"short name\", \"sector\", \"scenario\", \"year\", \"regional average\", \"perspective\"]).sort_index()\n",
    "\n",
    "costs_all_perspectives.to_csv(output_fp+\"/costs_regional_averages.csv\")"
   ]
  },
  {
   "cell_type": "markdown",
   "metadata": {},
   "source": [
    "### Direct impacts"
   ]
  },
  {
   "cell_type": "code",
   "execution_count": 6,
   "metadata": {},
   "outputs": [],
   "source": [
    "all_averages = pd.read_csv(output_fp+\"/direct_impacts_regional_averages.csv\").set_index(\n",
    "    [\"short name\", \"sector\", \"scenario\", \"year\", \"regional average\"])\n",
    "\n",
    "low_costs = get_quantile_costs(all_averages, 0.2, mfs_mc_sample_cc, 2)\n",
    "median_costs = get_quantile_costs(all_averages, 0.5, mfs_mc_sample_cc, 2)\n",
    "\n",
    "low_costs.reset_index(inplace=True)\n",
    "median_costs.reset_index(inplace=True)\n",
    "\n",
    "low_costs[\"perspective\"] = \"low estimate\"\n",
    "median_costs[\"perspective\"] = \"median\"\n",
    "\n",
    "perspectives_costs = get_perspectives_cost(all_averages, mfs_perspectives_cc)\n",
    "\n",
    "perspectives_costs = perspectives_costs.melt(ignore_index=False).reset_index().pivot(\n",
    "    columns=\"impact category\", values=\"value\",\n",
    "    index=[\"short name\", \"sector\", \"scenario\", \"year\", \"regional average\", \"perspective\"])\n",
    "\n",
    "costs_all_perspectives = pd.concat(\n",
    "    (\n",
    "        low_costs,\n",
    "        median_costs,\n",
    "        perspectives_costs.reset_index()\n",
    "    ),\n",
    "    axis=0\n",
    ").set_index([\"short name\", \"sector\", \"scenario\", \"year\", \"regional average\", \"perspective\"]).sort_index()\n",
    "\n",
    "costs_all_perspectives.to_csv(output_fp+\"/direct_costs_regional_averages.csv\")"
   ]
  },
  {
   "cell_type": "markdown",
   "metadata": {},
   "source": [
    "### Indirect impacts"
   ]
  },
  {
   "cell_type": "code",
   "execution_count": 14,
   "metadata": {},
   "outputs": [],
   "source": [
    "all_averages = pd.read_csv(output_fp+\"/indirect_impacts_regional_averages.csv\").set_index(\n",
    "    [\"short name\", \"sector\", \"scenario\", \"year\", \"regional average\"])\n",
    "\n",
    "low_costs = get_quantile_costs(all_averages, 0.2, mfs_mc_sample_cc, 2)\n",
    "median_costs = get_quantile_costs(all_averages, 0.5, mfs_mc_sample_cc, 2)\n",
    "\n",
    "low_costs.reset_index(inplace=True)\n",
    "median_costs.reset_index(inplace=True)\n",
    "\n",
    "low_costs[\"perspective\"] = \"low estimate\"\n",
    "median_costs[\"perspective\"] = \"median\"\n",
    "\n",
    "perspectives_costs = get_perspectives_cost(all_averages, mfs_perspectives_cc)\n",
    "\n",
    "perspectives_costs = perspectives_costs.melt(ignore_index=False).reset_index().pivot(\n",
    "    columns=\"impact category\", values=\"value\",\n",
    "    index=[\"short name\", \"sector\", \"scenario\", \"year\", \"regional average\", \"perspective\"])\n",
    "\n",
    "costs_all_perspectives = pd.concat(\n",
    "    (\n",
    "        low_costs,\n",
    "        median_costs,\n",
    "        perspectives_costs.reset_index()\n",
    "    ),\n",
    "    axis=0\n",
    ").set_index([\"short name\", \"sector\", \"scenario\", \"year\", \"regional average\", \"perspective\"]).sort_index()\n",
    "\n",
    "costs_all_perspectives.to_csv(output_fp+\"/indirect_costs_regional_averages.csv\")"
   ]
  },
  {
   "cell_type": "code",
   "execution_count": 8,
   "metadata": {},
   "outputs": [],
   "source": []
  },
  {
   "cell_type": "code",
   "execution_count": 9,
   "metadata": {},
   "outputs": [],
   "source": []
  },
  {
   "cell_type": "code",
   "execution_count": 10,
   "metadata": {},
   "outputs": [],
   "source": []
  },
  {
   "cell_type": "code",
   "execution_count": 11,
   "metadata": {},
   "outputs": [],
   "source": []
  },
  {
   "cell_type": "code",
   "execution_count": 12,
   "metadata": {},
   "outputs": [],
   "source": []
  },
  {
   "cell_type": "code",
   "execution_count": null,
   "metadata": {},
   "outputs": [],
   "source": []
  }
 ],
 "metadata": {
  "kernelspec": {
   "display_name": "costs_paper",
   "language": "python",
   "name": "python3"
  },
  "language_info": {
   "codemirror_mode": {
    "name": "ipython",
    "version": 3
   },
   "file_extension": ".py",
   "mimetype": "text/x-python",
   "name": "python",
   "nbconvert_exporter": "python",
   "pygments_lexer": "ipython3",
   "version": "3.10.13"
  }
 },
 "nbformat": 4,
 "nbformat_minor": 2
}
