{
 "cells": [
  {
   "cell_type": "markdown",
   "metadata": {},
   "source": []
  },
  {
   "cell_type": "code",
   "execution_count": 1,
   "metadata": {},
   "outputs": [],
   "source": [
    "%run common_definitions.py\n",
    "%run plotting_functions.py"
   ]
  },
  {
   "cell_type": "code",
   "execution_count": 2,
   "metadata": {},
   "outputs": [],
   "source": [
    "import brightway2 as bw\n",
    "from premise_gwp import add_premise_gwp\n",
    "\n",
    "import pandas as pd\n",
    "import xarray as xr\n",
    "import os\n",
    "import yaml"
   ]
  },
  {
   "cell_type": "code",
   "execution_count": 3,
   "metadata": {},
   "outputs": [],
   "source": [
    "bw.projects.set_current(\"GettingStarted_EI_3.10\")"
   ]
  },
  {
   "cell_type": "code",
   "execution_count": 4,
   "metadata": {},
   "outputs": [
    {
     "name": "stdout",
     "output_type": "stream",
     "text": [
      "RELICS requires the name of your biosphere database.\n",
      "Please enter the name of your biosphere database as it appears in your project.\n",
      "Databases dictionary with 2 object(s):\n",
      "\tecoinvent-3.10-biosphere\n",
      "\tecoinvent-3.10-cutoff\n",
      "Adding ('IPCC 2021', 'climate change', 'GWP 20a, incl. H and bio CO2')\n",
      "Converting to ei 3.10 biosphere names\n",
      "Applying strategy: csv_restore_tuples\n",
      "Applying strategy: csv_numerize\n",
      "Applying strategy: csv_drop_unknown\n",
      "Applying strategy: set_biosphere_type\n",
      "Applying strategy: drop_unspecified_subcategories\n",
      "Applying strategy: link_iterable_by_fields\n",
      "Applying strategy: drop_falsey_uncertainty_fields_but_keep_zeros\n",
      "Applying strategy: convert_uncertainty_types_to_integers\n",
      "Applied 8 strategies in 0.08 seconds\n",
      "Applying strategy: drop_unlinked_cfs\n",
      "Applied 1 strategies in 0.00 seconds\n",
      "0 unlinked flows:\n",
      "Wrote 1 LCIA methods with 208 characterization factors\n",
      "Adding ('IPCC 2021', 'climate change', 'GWP 100a, incl. H and bio CO2')\n",
      "Converting to ei 3.10 biosphere names\n",
      "Applying strategy: csv_restore_tuples\n",
      "Applying strategy: csv_numerize\n",
      "Applying strategy: csv_drop_unknown\n",
      "Applying strategy: set_biosphere_type\n",
      "Applying strategy: drop_unspecified_subcategories\n",
      "Applying strategy: link_iterable_by_fields\n",
      "Applying strategy: drop_falsey_uncertainty_fields_but_keep_zeros\n",
      "Applying strategy: convert_uncertainty_types_to_integers\n",
      "Applied 8 strategies in 0.09 seconds\n",
      "Applying strategy: drop_unlinked_cfs\n",
      "Applied 1 strategies in 0.00 seconds\n",
      "0 unlinked flows:\n",
      "Wrote 1 LCIA methods with 208 characterization factors\n",
      "Adding ('IPCC 2021', 'climate change', 'GWP 100a, incl. H')\n",
      "Converting to ei 3.10 biosphere names\n",
      "Applying strategy: csv_restore_tuples\n",
      "Applying strategy: csv_numerize\n",
      "Applying strategy: csv_drop_unknown\n",
      "Applying strategy: set_biosphere_type\n",
      "Applying strategy: drop_unspecified_subcategories\n",
      "Applying strategy: link_iterable_by_fields\n",
      "Applying strategy: drop_falsey_uncertainty_fields_but_keep_zeros\n",
      "Applying strategy: convert_uncertainty_types_to_integers\n",
      "Applied 8 strategies in 0.07 seconds\n",
      "Applying strategy: drop_unlinked_cfs\n",
      "Applied 1 strategies in 0.00 seconds\n",
      "0 unlinked flows:\n",
      "Wrote 1 LCIA methods with 202 characterization factors\n",
      "Adding ('IPCC 2021', 'climate change', 'GWP 20a, incl. H')\n",
      "Converting to ei 3.10 biosphere names\n",
      "Applying strategy: csv_restore_tuples\n",
      "Applying strategy: csv_numerize\n",
      "Applying strategy: csv_drop_unknown\n",
      "Applying strategy: set_biosphere_type\n",
      "Applying strategy: drop_unspecified_subcategories\n",
      "Applying strategy: link_iterable_by_fields\n",
      "Applying strategy: drop_falsey_uncertainty_fields_but_keep_zeros\n",
      "Applying strategy: convert_uncertainty_types_to_integers\n",
      "Applied 8 strategies in 0.15 seconds\n",
      "Applying strategy: drop_unlinked_cfs\n",
      "Applied 1 strategies in 0.00 seconds\n",
      "0 unlinked flows:\n",
      "Wrote 1 LCIA methods with 202 characterization factors\n"
     ]
    }
   ],
   "source": [
    "add_premise_gwp()"
   ]
  },
  {
   "cell_type": "markdown",
   "metadata": {},
   "source": [
    "## Split climate methods"
   ]
  },
  {
   "cell_type": "code",
   "execution_count": 5,
   "metadata": {},
   "outputs": [],
   "source": [
    "base_methods = [\n",
    "    ('IPCC 2021', 'climate change', 'GWP 100a, incl. H and bio CO2'),\n",
    "    ('IPCC 2021', 'climate change', 'GWP 20a, incl. H and bio CO2')\n",
    "]"
   ]
  },
  {
   "cell_type": "code",
   "execution_count": 6,
   "metadata": {},
   "outputs": [],
   "source": [
    "for method in base_methods:\n",
    "    M = bw.Method(method)\n",
    "    unit = \"\"\n",
    "    if \"unit\" in M.metadata:\n",
    "        unit = M.metadata[\"unit\"]\n",
    "\n",
    "    CFs_bio = []\n",
    "    CFs_landuse = []\n",
    "    CFs_fossil = []\n",
    "    for flow in bw.Method(method).load():\n",
    "        act = bw.get_activity(flow[0])\n",
    "        if \"non-fossil\" in act[\"name\"] or \"in air\" in act[\"name\"]:\n",
    "            CFs_bio.append(list(flow))\n",
    "        elif \"soil or biomass\" in act[\"name\"]:\n",
    "            CFs_landuse.append(list(flow))\n",
    "        else:\n",
    "            CFs_fossil.append(list(flow))\n",
    "\n",
    "    new_key = (method[0], method[1]+\": biogenic\", method[2].split(\",\")[0])    \n",
    "    new_method = bw.Method(new_key)\n",
    "    new_method.validate(CFs_bio)\n",
    "    new_method.register(unit=unit)\n",
    "    new_method.write(CFs_bio)\n",
    "\n",
    "    new_key = (method[0], method[1]+\": land use\", method[2].split(\",\")[0])    \n",
    "    new_method = bw.Method(new_key)\n",
    "    new_method.validate(CFs_landuse)\n",
    "    new_method.register(unit=unit)\n",
    "    new_method.write(CFs_landuse)\n",
    "\n",
    "    new_key = (method[0], method[1]+\": fossil\", method[2].split(\",\")[0])    \n",
    "    new_method = bw.Method(new_key)\n",
    "    new_method.validate(CFs_fossil)\n",
    "    new_method.register(unit=unit)\n",
    "    new_method.write(CFs_fossil)"
   ]
  },
  {
   "cell_type": "markdown",
   "metadata": {},
   "source": [
    "## Add Eco-costs metals"
   ]
  },
  {
   "cell_type": "code",
   "execution_count": 7,
   "metadata": {},
   "outputs": [],
   "source": [
    "table = pd.read_csv(\"../data/cfs_ecocosts_metals.csv\")\n",
    "table.dropna(subset=\"characterization factor\", inplace=True)"
   ]
  },
  {
   "cell_type": "code",
   "execution_count": 8,
   "metadata": {},
   "outputs": [],
   "source": [
    "cfs_costs = pd.read_csv(\"../data/cfs_cost_methods.csv\")"
   ]
  },
  {
   "cell_type": "code",
   "execution_count": 9,
   "metadata": {},
   "outputs": [
    {
     "name": "stdout",
     "output_type": "stream",
     "text": [
      "Error for Aluminium, 24% in bauxite, 11% in crude ore: 0 match(es). Flow dropped.\n",
      "Error for Cadmium, 0.30% in sulfide, Cd 0.18%, Pb, Zn, Ag, In: 0 match(es). Flow dropped.\n",
      "Error for Chromium, 25.5% in chromite, 11.6% in crude ore: 0 match(es). Flow dropped.\n",
      "Error for Cobalt, Co 5.0E-2%, in mixed ore: 0 match(es). Flow dropped.\n",
      "Error for Copper, 1.42% in sulfide, Cu 0.81% and Mo 8.2E-3% in crude ore: 0 match(es). Flow dropped.\n",
      "Error for Copper, Cu 0.38%, in mixed ore: 0 match(es). Flow dropped.\n",
      "Error for Copper, 0.99% in sulfide, Cu 0.36% and Mo 8.2E-3% in crude ore: 0 match(es). Flow dropped.\n",
      "Error for Copper, Cu 6.8E-1%, in mixed ore: 0 match(es). Flow dropped.\n",
      "Error for Copper, 0.52% in sulfide, Cu 0.27% and Mo 8.2E-3% in crude ore: 0 match(es). Flow dropped.\n",
      "Error for Copper, Cu 0.2%, in mixed ore: 0 match(es). Flow dropped.\n",
      "Error for Copper, 1.18% in sulfide, Cu 0.39% and Mo 8.2E-3% in crude ore: 0 match(es). Flow dropped.\n",
      "Error for Copper, 1.25% in sulfide, Cu 0.24% and Zn 0,1% in crude ore: 0 match(es). Flow dropped.\n",
      "Error for Copper, 1.13% in sulfide, Cu 0.76% and Ni 0.76% in crude ore: 0 match(es). Flow dropped.\n",
      "Error for Copper, 0.97% in sulfide, Cu 0.36% and Mo 4.1E-2% in crude ore: 0 match(es). Flow dropped.\n",
      "Error for Copper, 0.59% in sulfide, Cu 0.22% and Mo 8.2E-3% in crude ore: 0 match(es). Flow dropped.\n",
      "Error for Copper, 2.19% in sulfide, Cu 1.83% and Mo 8.2E-3% in crude ore: 0 match(es). Flow dropped.\n",
      "Error for Gallium, 0.014% in bauxite: 0 match(es). Flow dropped.\n",
      "Error for Gold, Au 4.9E-5%, in ore: 0 match(es). Flow dropped.\n",
      "Error for Gold, Au 1.3E-4%, Ag 4.6E-5%, in ore: 0 match(es). Flow dropped.\n",
      "Error for Gold, Au 9.7E-4%, in mixed ore: 0 match(es). Flow dropped.\n",
      "Error for Gold, Au 9.7E-5%, Ag 7.6E-5%, in ore: 0 match(es). Flow dropped.\n",
      "Error for Gold, Au 4.3E-4%, in ore: 0 match(es). Flow dropped.\n",
      "Error for Gold, Au 1.4E-4%, in ore: 0 match(es). Flow dropped.\n",
      "Error for Gold, Au 6.7E-4%, in ore: 0 match(es). Flow dropped.\n",
      "Error for Gold, Au 1.0E-7%, in mixed ore: 0 match(es). Flow dropped.\n",
      "Error for Gold, Au 1.1E-4%, Ag 4.2E-3%, in ore: 0 match(es). Flow dropped.\n",
      "Error for Gold, Au 5.4E-4%, Ag 1.5E-5%, in ore: 0 match(es). Flow dropped.\n",
      "Error for Gold, Au 2.1E-4%, Ag 2.1E-4%, in ore: 0 match(es). Flow dropped.\n",
      "Error for Gold, Au 6.8E-4%, Ag 1.5E-4%, in ore: 0 match(es). Flow dropped.\n",
      "Error for Gold, Au 7.1E-4%, in ore: 0 match(es). Flow dropped.\n",
      "Error for Gold, Au 1.8E-4%, in mixed ore: 0 match(es). Flow dropped.\n",
      "Error for Indium, 0.005% in sulfide, In 0.003%, Pb, Zn, Ag, Cd: 0 match(es). Flow dropped.\n",
      "Error for Lead, Pb 3.6E-1%, in mixed ore: 0 match(es). Flow dropped.\n",
      "Error for Lead, Pb 0.014%, in mixed ore: 0 match(es). Flow dropped.\n",
      "Error for Lead, 5.0% in sulfide, Pb 3.0%, Zn, Ag, Cd, In: 0 match(es). Flow dropped.\n",
      "Error for Lithium, 0.15% in brine: 0 match(es). Flow dropped.\n",
      "Error for Manganese, 35.7% in sedimentary deposit, 14.2% in crude ore: 0 match(es). Flow dropped.\n",
      "Error for Molybdenum, 0.025% in sulfide, Mo 8.2E-3% and Cu 0.39% in crude ore: 0 match(es). Flow dropped.\n",
      "Error for Molybdenum, 0.014% in sulfide, Mo 8.2E-3% and Cu 0.81% in crude ore: 0 match(es). Flow dropped.\n",
      "Error for Molybdenum, 0.016% in sulfide, Mo 8.2E-3% and Cu 0.27% in crude ore: 0 match(es). Flow dropped.\n",
      "Error for Molybdenum, 0.022% in sulfide, Mo 8.2E-3% and Cu 0.36% in crude ore: 0 match(es). Flow dropped.\n",
      "Error for Molybdenum, 0.022% in sulfide, Mo 8.2E-3% and Cu 0.22% in crude ore: 0 match(es). Flow dropped.\n",
      "Error for Molybdenum, 0.010% in sulfide, Mo 8.2E-3% and Cu 1.83% in crude ore: 0 match(es). Flow dropped.\n",
      "Error for Molybdenum, 0.11% in sulfide, Mo 4.1E-2% and Cu 0.36% in crude ore: 0 match(es). Flow dropped.\n",
      "Error for Nickel, Ni 2.5E+0%, in mixed ore: 0 match(es). Flow dropped.\n",
      "Error for Nickel, 1.98% in silicates, 1.04% in crude ore: 0 match(es). Flow dropped.\n",
      "Error for Nickel, 1.13% in sulfide, Ni 0.76% and Cu 0.76% in crude ore: 0 match(es). Flow dropped.\n",
      "Error for Platinum, Pt 4.7E-7%, in mixed ore: 0 match(es). Flow dropped.\n",
      "Error for Palladium, Pd 1.6E-6%, in mixed ore: 0 match(es). Flow dropped.\n",
      "Error for Rhodium, Rh 1.6E-7%, in mixed ore: 0 match(es). Flow dropped.\n",
      "Error for Rhenium, in crude ore: 0 match(es). Flow dropped.\n",
      "Error for Silver, Ag 4.6E-5%, Au 1.3E-4%, in ore: 0 match(es). Flow dropped.\n",
      "Error for Silver, Ag 4.2E-3%, Au 1.1E-4%, in ore: 0 match(es). Flow dropped.\n",
      "Error for Silver, Ag 1.8E-6%, in mixed ore: 0 match(es). Flow dropped.\n",
      "Error for Silver, Ag 1.5E-5%, Au 5.4E-4%, in ore: 0 match(es). Flow dropped.\n",
      "Error for Silver, Ag 7.6E-5%, Au 9.7E-5%, in ore: 0 match(es). Flow dropped.\n",
      "Error for Silver, 0.007% in sulfide, Ag 0.004%, Pb, Zn, Cd, In: 0 match(es). Flow dropped.\n",
      "Error for Silver, Ag 1.5E-4%, Au 6.8E-4%, in ore: 0 match(es). Flow dropped.\n",
      "Error for Silver, Ag 5.4E-3%, in mixed ore: 0 match(es). Flow dropped.\n",
      "Error for Silver, 0.01% in crude ore: 0 match(es). Flow dropped.\n",
      "Error for Silver, Ag 9.7E-4%, in mixed ore: 0 match(es). Flow dropped.\n",
      "Error for Silver, 3.2ppm in sulfide, Ag 1.2ppm, Cu and Te, in crude ore: 0 match(es). Flow dropped.\n",
      "Error for Silver, Ag 2.1E-4%, Au 2.1E-4%, in ore: 0 match(es). Flow dropped.\n",
      "Error for Tantalum, 81.9% in tantalite, 1.6E-4% in crude ore: 0 match(es). Flow dropped.\n",
      "Error for Tellurium, 0.5ppm in sulfide, Te 0.2ppm, Cu and Ag, in crude ore: 0 match(es). Flow dropped.\n",
      "Error for Tin, 79% in cassiterite, 0.1% in crude ore: 0 match(es). Flow dropped.\n",
      "Error for Zinc, Zn 0.63%, in mixed ore: 0 match(es). Flow dropped.\n",
      "Error for Zinc, 9.0% in sulfide, Zn 5.3%, Pb, Ag, Cd, In: 0 match(es). Flow dropped.\n",
      "Error for Zinc, Zn 3.1%, in mixed ore: 0 match(es). Flow dropped.\n",
      "Error for Zirconium, 50% in zircon, 0.39% in crude ore: 0 match(es). Flow dropped.\n",
      "Error for Cerium, 24% in bastnasite, 2.4% in crude ore: 0 match(es). Flow dropped.\n",
      "Error for Europium, 0.06% in bastnasite, 0.006% in crude ore: 0 match(es). Flow dropped.\n",
      "Error for Gadolinium, 0.15% in bastnasite, 0.015% in crude ore: 0 match(es). Flow dropped.\n",
      "Error for Lanthanum, 7.2% in bastnasite, 0.72% in crude ore: 0 match(es). Flow dropped.\n",
      "Error for Neodymium, 4% in bastnasite, 0.4% in crude ore: 0 match(es). Flow dropped.\n",
      "Error for Praseodymium, 0.42% in bastnasite, 0.042% in crude ore: 0 match(es). Flow dropped.\n",
      "Error for Samarium, 0.3% in bastnasite, 0.03% in crude ore: 0 match(es). Flow dropped.\n"
     ]
    }
   ],
   "source": [
    "db = bw.Database(\"ecoinvent-3.10-biosphere\")\n",
    "resources = [flow for flow in db if flow[\"categories\"] == (\"natural resource\", \"in ground\")]\n",
    "\n",
    "new_key = (\"Eco-costs\", \"Material scarcity\", \"VAR(95)\")\n",
    "CFs = []\n",
    "for idx, row in table.iterrows():\n",
    "    matches = [flow for flow in resources if flow[\"name\"] == row[\"name\"] and str(flow[\"categories\"]) == row[\"categories\"]]\n",
    "    if len(matches) == 1:\n",
    "        CFs.append([matches[0].key, row[\"characterization factor\"]])\n",
    "    else:\n",
    "        print(\"Error for {}: {} match(es). Flow dropped.\".format(row[\"name\"], len(matches)))\n",
    "\n",
    "new_method = bw.Method(new_key)\n",
    "new_method.validate(CFs)\n",
    "new_method.register(unit=\"EUR2023\")\n",
    "new_method.write(CFs)"
   ]
  },
  {
   "cell_type": "code",
   "execution_count": 77,
   "metadata": {},
   "outputs": [],
   "source": [
    "def add_methods_from_dataframe(df):\n",
    "    methods2add = list(df[\"method\"].unique())\n",
    "\n",
    "    for m in methods2add:\n",
    "        sel = df[df[\"method\"] == m].copy()\n",
    "        new_key = tuple(list(m.split(\", \")))\n",
    "        unit = sel[\"unit\"].iloc[0]\n",
    "        keys = list(sel[\"mapped key\"])\n",
    "        cfs = list(sel[\"CF\"])\n",
    "        new_cfs = [[eval(k), cf] for k, cf in zip(keys, cfs)]\n",
    "        new_method = bw.Method(new_key)\n",
    "        new_method.validate(new_cfs)\n",
    "        new_method.register(unit=unit)\n",
    "        new_method.write(new_cfs)\n",
    "\n",
    "        print(\"Added method {}\".format(str(new_method)))"
   ]
  },
  {
   "cell_type": "markdown",
   "metadata": {},
   "source": [
    "## Add old ReCiPe methods"
   ]
  },
  {
   "cell_type": "code",
   "execution_count": 58,
   "metadata": {},
   "outputs": [],
   "source": [
    "df_recipe = pd.read_csv(\"../data/cfs_old_recipe_methods_mapped.csv\")\n",
    "name_mapping = yaml.safe_load(open(\"../data/mapping_ei310.yaml\", \"r\"))\n",
    "\n",
    "def map_flow_name(x):\n",
    "    if x in name_mapping.keys():\n",
    "        return name_mapping[x]\n",
    "    else:\n",
    "        return x"
   ]
  },
  {
   "cell_type": "code",
   "execution_count": 62,
   "metadata": {},
   "outputs": [],
   "source": [
    "df_recipe[\"new flow name\"] = df_recipe[\"new flow name\"].apply(map_flow_name)"
   ]
  },
  {
   "cell_type": "code",
   "execution_count": 63,
   "metadata": {},
   "outputs": [
    {
     "data": {
      "text/html": [
       "<div>\n",
       "<style scoped>\n",
       "    .dataframe tbody tr th:only-of-type {\n",
       "        vertical-align: middle;\n",
       "    }\n",
       "\n",
       "    .dataframe tbody tr th {\n",
       "        vertical-align: top;\n",
       "    }\n",
       "\n",
       "    .dataframe thead th {\n",
       "        text-align: right;\n",
       "    }\n",
       "</style>\n",
       "<table border=\"1\" class=\"dataframe\">\n",
       "  <thead>\n",
       "    <tr style=\"text-align: right;\">\n",
       "      <th></th>\n",
       "      <th>method</th>\n",
       "      <th>unit</th>\n",
       "      <th>new flow name</th>\n",
       "      <th>flow categories</th>\n",
       "      <th>CF</th>\n",
       "    </tr>\n",
       "  </thead>\n",
       "  <tbody>\n",
       "  </tbody>\n",
       "</table>\n",
       "</div>"
      ],
      "text/plain": [
       "Empty DataFrame\n",
       "Columns: [method, unit, new flow name, flow categories, CF]\n",
       "Index: []"
      ]
     },
     "execution_count": 63,
     "metadata": {},
     "output_type": "execute_result"
    }
   ],
   "source": [
    "df_recipe[df_recipe[\"new flow name\"].isna()]"
   ]
  },
  {
   "cell_type": "code",
   "execution_count": 64,
   "metadata": {},
   "outputs": [],
   "source": [
    "df_recipe.dropna(subset=\"new flow name\", inplace=True)"
   ]
  },
  {
   "cell_type": "markdown",
   "metadata": {},
   "source": [
    "Remove exchanges into \"('air', 'lower stratosphere + upper troposphere')\""
   ]
  },
  {
   "cell_type": "code",
   "execution_count": 65,
   "metadata": {},
   "outputs": [
    {
     "data": {
      "text/plain": [
       "['Particulate Matter, < 2.5 um',\n",
       " 'NMVOC, non-methane volatile organic compounds',\n",
       " 'Carbon dioxide, fossil',\n",
       " 'Chromium III',\n",
       " 'Nitrogen oxides',\n",
       " 'Carbon monoxide, fossil',\n",
       " 'Selenium IV',\n",
       " 'Water',\n",
       " 'Copper ion',\n",
       " 'Sulfur dioxide',\n",
       " 'Nickel II',\n",
       " 'Zinc II',\n",
       " 'Cadmium II',\n",
       " 'Mercury II',\n",
       " 'Lead II']"
      ]
     },
     "execution_count": 65,
     "metadata": {},
     "output_type": "execute_result"
    }
   ],
   "source": [
    "db = bw.Database(\"ecoinvent-3.10-biosphere\")\n",
    "\n",
    "not_change = [act[\"name\"] for act in db if act[\"categories\"] == ('air', 'lower stratosphere + upper troposphere')]\n",
    "not_change"
   ]
  },
  {
   "cell_type": "code",
   "execution_count": 66,
   "metadata": {},
   "outputs": [
    {
     "name": "stderr",
     "output_type": "stream",
     "text": [
      "C:\\Users\\davidba\\AppData\\Local\\Temp\\ipykernel_15924\\1340859795.py:1: UserWarning: Boolean Series key will be reindexed to match DataFrame index.\n",
      "  idx_remove = df_recipe[df_recipe[\"flow categories\"] == \"('air', 'lower stratosphere + upper troposphere')\"][~df_recipe[\"new flow name\"].isin(not_change)].index\n"
     ]
    }
   ],
   "source": [
    "idx_remove = df_recipe[df_recipe[\"flow categories\"] == \"('air', 'lower stratosphere + upper troposphere')\"][~df_recipe[\"new flow name\"].isin(not_change)].index"
   ]
  },
  {
   "cell_type": "code",
   "execution_count": 67,
   "metadata": {},
   "outputs": [],
   "source": [
    "df_recipe = df_recipe.drop(index=idx_remove)"
   ]
  },
  {
   "cell_type": "markdown",
   "metadata": {},
   "source": [
    "### Checking names"
   ]
  },
  {
   "cell_type": "code",
   "execution_count": 68,
   "metadata": {},
   "outputs": [],
   "source": [
    "db = bw.Database(\"ecoinvent-3.10-biosphere\")\n",
    "\n",
    "all_names = list(set([act[\"name\"] for act in db]))\n",
    "\n",
    "needed_names = list(df_recipe[\"new flow name\"].unique())\n",
    "\n",
    "for n in needed_names:\n",
    "    if n not in all_names:\n",
    "        print(\"{} not found.\".format(n))\n"
   ]
  },
  {
   "cell_type": "code",
   "execution_count": 69,
   "metadata": {},
   "outputs": [],
   "source": [
    "db = bw.Database(\"ecoinvent-3.10-biosphere\")\n",
    "\n",
    "flowlist = []\n",
    "categorieslist = []\n",
    "keylist = []\n",
    "\n",
    "needed_flows = list(df_recipe.groupby([\"new flow name\", \"flow categories\"]).size().index)\n",
    "flow_mapping = {(act[\"name\"], str(act[\"categories\"])): act.key for act in db}\n",
    "\n",
    "for f in needed_flows:\n",
    "    if f not in flow_mapping.keys():\n",
    "        print(f[0])\n"
   ]
  },
  {
   "cell_type": "code",
   "execution_count": 18,
   "metadata": {},
   "outputs": [],
   "source": [
    "df_recipe[\"mapped key\"] = [flow_mapping[i] for i in df_recipe.set_index([\"new flow name\", \"flow categories\"]).index]\n",
    "df_recipe[[\"method\", \"unit\", \"new flow name\", \"flow categories\", \"mapped key\", \"CF\"]].to_csv(\"../data/cfs_old_recipe_methods_mapped_w_keys_ei310.csv\", index=False)"
   ]
  },
  {
   "cell_type": "markdown",
   "metadata": {},
   "source": [
    "### Add methods to brightway"
   ]
  },
  {
   "cell_type": "code",
   "execution_count": 19,
   "metadata": {},
   "outputs": [
    {
     "name": "stdout",
     "output_type": "stream",
     "text": [
      "Added method Brightway2 Method: ReCiPe Endpoint (E,A) w/o LT: ecosystem quality w/o LT: freshwater ecotoxicity w/o LT\n",
      "Added method Brightway2 Method: ReCiPe Endpoint (E,A) w/o LT: ecosystem quality w/o LT: freshwater eutrophication w/o LT\n",
      "Added method Brightway2 Method: ReCiPe Endpoint (E,A) w/o LT: ecosystem quality w/o LT: urban land occupation w/o LT\n",
      "Added method Brightway2 Method: ReCiPe Endpoint (E,A) w/o LT: ecosystem quality w/o LT: climate change: ecosystems w/o LT\n",
      "Added method Brightway2 Method: ReCiPe Endpoint (E,A) w/o LT: ecosystem quality w/o LT: terrestrial ecotoxicity w/o LT\n",
      "Added method Brightway2 Method: ReCiPe Endpoint (E,A) w/o LT: ecosystem quality w/o LT: agricultural land occupation w/o LT\n",
      "Added method Brightway2 Method: ReCiPe Endpoint (E,A) w/o LT: ecosystem quality w/o LT: marine ecotoxicity w/o LT\n",
      "Added method Brightway2 Method: ReCiPe Endpoint (E,A) w/o LT: ecosystem quality w/o LT: natural land transformation w/o LT\n",
      "Added method Brightway2 Method: ReCiPe Endpoint (E,A) w/o LT: ecosystem quality w/o LT: terrestrial acidification w/o LT\n",
      "Added method Brightway2 Method: ReCiPe Endpoint (E,A) w/o LT: human health w/o LT: ionising radiation w/o LT\n",
      "Added method Brightway2 Method: ReCiPe Endpoint (E,A) w/o LT: human health w/o LT: ozone depletion w/o LT\n",
      "Added method Brightway2 Method: ReCiPe Endpoint (E,A) w/o LT: human health w/o LT: human toxicity w/o LT\n",
      "Added method Brightway2 Method: ReCiPe Endpoint (E,A) w/o LT: human health w/o LT: particulate matter formation w/o LT\n",
      "Added method Brightway2 Method: ReCiPe Endpoint (E,A) w/o LT: human health w/o LT: climate change: human health w/o LT\n",
      "Added method Brightway2 Method: ReCiPe Endpoint (E,A) w/o LT: human health w/o LT: photochemical oxidant formation w/o LT\n",
      "Added method Brightway2 Method: ReCiPe Endpoint (E,A) w/o LT: resources w/o LT: metal depletion w/o LT\n",
      "Added method Brightway2 Method: ReCiPe Endpoint (E,A) w/o LT: resources w/o LT: fossil depletion w/o LT\n",
      "Added method Brightway2 Method: ReCiPe Endpoint (E,A) w/o LT: total w/o LT: total w/o LT\n",
      "Added method Brightway2 Method: ReCiPe Endpoint (E,A) w/o LT: resources w/o LT: total w/o LT\n",
      "Added method Brightway2 Method: ReCiPe Endpoint (E,A) w/o LT: human health w/o LT: total w/o LT\n",
      "Added method Brightway2 Method: ReCiPe Endpoint (E,A) w/o LT: ecosystem quality w/o LT: total w/o LT\n",
      "Added method Brightway2 Method: ReCiPe Endpoint (E,A): ecosystem quality: terrestrial ecotoxicity\n",
      "Added method Brightway2 Method: ReCiPe Endpoint (E,A): ecosystem quality: natural land transformation\n",
      "Added method Brightway2 Method: ReCiPe Endpoint (E,A): ecosystem quality: urban land occupation\n",
      "Added method Brightway2 Method: ReCiPe Endpoint (E,A): ecosystem quality: agricultural land occupation\n",
      "Added method Brightway2 Method: ReCiPe Endpoint (E,A): ecosystem quality: climate change: ecosystems\n",
      "Added method Brightway2 Method: ReCiPe Endpoint (E,A): ecosystem quality: freshwater eutrophication\n",
      "Added method Brightway2 Method: ReCiPe Endpoint (E,A): ecosystem quality: terrestrial acidification\n",
      "Added method Brightway2 Method: ReCiPe Endpoint (E,A): ecosystem quality: freshwater ecotoxicity\n",
      "Added method Brightway2 Method: ReCiPe Endpoint (E,A): ecosystem quality: marine ecotoxicity\n",
      "Added method Brightway2 Method: ReCiPe Endpoint (E,A): human health: human toxicity\n",
      "Added method Brightway2 Method: ReCiPe Endpoint (E,A): human health: ionising radiation\n",
      "Added method Brightway2 Method: ReCiPe Endpoint (E,A): human health: particulate matter formation\n",
      "Added method Brightway2 Method: ReCiPe Endpoint (E,A): human health: climate change: human health\n",
      "Added method Brightway2 Method: ReCiPe Endpoint (E,A): human health: photochemical oxidant formation\n",
      "Added method Brightway2 Method: ReCiPe Endpoint (E,A): human health: ozone depletion\n",
      "Added method Brightway2 Method: ReCiPe Endpoint (E,A): resources: fossil depletion\n",
      "Added method Brightway2 Method: ReCiPe Endpoint (E,A): resources: metal depletion\n",
      "Added method Brightway2 Method: ReCiPe Endpoint (E,A): human health: total\n",
      "Added method Brightway2 Method: ReCiPe Endpoint (E,A): ecosystem quality: total\n",
      "Added method Brightway2 Method: ReCiPe Endpoint (E,A): resources: total\n",
      "Added method Brightway2 Method: ReCiPe Endpoint (E,A): total: total\n",
      "Added method Brightway2 Method: ReCiPe Endpoint (H,A) w/o LT: ecosystem quality w/o LT: freshwater ecotoxicity w/o LT\n",
      "Added method Brightway2 Method: ReCiPe Endpoint (H,A) w/o LT: ecosystem quality w/o LT: freshwater eutrophication w/o LT\n",
      "Added method Brightway2 Method: ReCiPe Endpoint (H,A) w/o LT: ecosystem quality w/o LT: urban land occupation w/o LT\n",
      "Added method Brightway2 Method: ReCiPe Endpoint (H,A) w/o LT: ecosystem quality w/o LT: climate change: ecosystems w/o LT\n",
      "Added method Brightway2 Method: ReCiPe Endpoint (H,A) w/o LT: ecosystem quality w/o LT: terrestrial ecotoxicity w/o LT\n",
      "Added method Brightway2 Method: ReCiPe Endpoint (H,A) w/o LT: ecosystem quality w/o LT: agricultural land occupation w/o LT\n",
      "Added method Brightway2 Method: ReCiPe Endpoint (H,A) w/o LT: ecosystem quality w/o LT: marine ecotoxicity w/o LT\n",
      "Added method Brightway2 Method: ReCiPe Endpoint (H,A) w/o LT: ecosystem quality w/o LT: natural land transformation w/o LT\n",
      "Added method Brightway2 Method: ReCiPe Endpoint (H,A) w/o LT: ecosystem quality w/o LT: terrestrial acidification w/o LT\n",
      "Added method Brightway2 Method: ReCiPe Endpoint (H,A) w/o LT: human health w/o LT: ionising radiation w/o LT\n",
      "Added method Brightway2 Method: ReCiPe Endpoint (H,A) w/o LT: human health w/o LT: ozone depletion w/o LT\n",
      "Added method Brightway2 Method: ReCiPe Endpoint (H,A) w/o LT: human health w/o LT: human toxicity w/o LT\n",
      "Added method Brightway2 Method: ReCiPe Endpoint (H,A) w/o LT: human health w/o LT: particulate matter formation w/o LT\n",
      "Added method Brightway2 Method: ReCiPe Endpoint (H,A) w/o LT: human health w/o LT: climate change: human health w/o LT\n",
      "Added method Brightway2 Method: ReCiPe Endpoint (H,A) w/o LT: human health w/o LT: photochemical oxidant formation w/o LT\n",
      "Added method Brightway2 Method: ReCiPe Endpoint (H,A) w/o LT: resources w/o LT: metal depletion w/o LT\n",
      "Added method Brightway2 Method: ReCiPe Endpoint (H,A) w/o LT: resources w/o LT: fossil depletion w/o LT\n",
      "Added method Brightway2 Method: ReCiPe Endpoint (H,A) w/o LT: human health w/o LT: total w/o LT\n",
      "Added method Brightway2 Method: ReCiPe Endpoint (H,A) w/o LT: resources w/o LT: total w/o LT\n",
      "Added method Brightway2 Method: ReCiPe Endpoint (H,A) w/o LT: ecosystem quality w/o LT: total w/o LT\n",
      "Added method Brightway2 Method: ReCiPe Endpoint (H,A) w/o LT: total w/o LT: total w/o LT\n",
      "Added method Brightway2 Method: ReCiPe Endpoint (H,A): ecosystem quality: terrestrial ecotoxicity\n",
      "Added method Brightway2 Method: ReCiPe Endpoint (H,A): ecosystem quality: natural land transformation\n",
      "Added method Brightway2 Method: ReCiPe Endpoint (H,A): ecosystem quality: urban land occupation\n",
      "Added method Brightway2 Method: ReCiPe Endpoint (H,A): ecosystem quality: agricultural land occupation\n",
      "Added method Brightway2 Method: ReCiPe Endpoint (H,A): ecosystem quality: climate change: ecosystems\n",
      "Added method Brightway2 Method: ReCiPe Endpoint (H,A): ecosystem quality: freshwater eutrophication\n",
      "Added method Brightway2 Method: ReCiPe Endpoint (H,A): ecosystem quality: terrestrial acidification\n",
      "Added method Brightway2 Method: ReCiPe Endpoint (H,A): ecosystem quality: freshwater ecotoxicity\n",
      "Added method Brightway2 Method: ReCiPe Endpoint (H,A): ecosystem quality: marine ecotoxicity\n",
      "Added method Brightway2 Method: ReCiPe Endpoint (H,A): human health: human toxicity\n",
      "Added method Brightway2 Method: ReCiPe Endpoint (H,A): human health: ionising radiation\n",
      "Added method Brightway2 Method: ReCiPe Endpoint (H,A): human health: particulate matter formation\n",
      "Added method Brightway2 Method: ReCiPe Endpoint (H,A): human health: climate change: human health\n",
      "Added method Brightway2 Method: ReCiPe Endpoint (H,A): human health: photochemical oxidant formation\n",
      "Added method Brightway2 Method: ReCiPe Endpoint (H,A): human health: ozone depletion\n",
      "Added method Brightway2 Method: ReCiPe Endpoint (H,A): resources: fossil depletion\n",
      "Added method Brightway2 Method: ReCiPe Endpoint (H,A): resources: metal depletion\n",
      "Added method Brightway2 Method: ReCiPe Endpoint (H,A): total: total\n",
      "Added method Brightway2 Method: ReCiPe Endpoint (H,A): ecosystem quality: total\n",
      "Added method Brightway2 Method: ReCiPe Endpoint (H,A): resources: total\n",
      "Added method Brightway2 Method: ReCiPe Endpoint (H,A): human health: total\n",
      "Added method Brightway2 Method: ReCiPe Endpoint (I,A): ecosystem quality: terrestrial ecotoxicity\n",
      "Added method Brightway2 Method: ReCiPe Endpoint (I,A): ecosystem quality: natural land transformation\n",
      "Added method Brightway2 Method: ReCiPe Endpoint (I,A): ecosystem quality: urban land occupation\n",
      "Added method Brightway2 Method: ReCiPe Endpoint (I,A): ecosystem quality: agricultural land occupation\n",
      "Added method Brightway2 Method: ReCiPe Endpoint (I,A): ecosystem quality: climate change: ecosystems\n",
      "Added method Brightway2 Method: ReCiPe Endpoint (I,A): ecosystem quality: freshwater eutrophication\n",
      "Added method Brightway2 Method: ReCiPe Endpoint (I,A): ecosystem quality: terrestrial acidification\n",
      "Added method Brightway2 Method: ReCiPe Endpoint (I,A): ecosystem quality: freshwater ecotoxicity\n",
      "Added method Brightway2 Method: ReCiPe Endpoint (I,A): ecosystem quality: marine ecotoxicity\n",
      "Added method Brightway2 Method: ReCiPe Endpoint (I,A): human health: human toxicity\n",
      "Added method Brightway2 Method: ReCiPe Endpoint (I,A): human health: ionising radiation\n",
      "Added method Brightway2 Method: ReCiPe Endpoint (I,A): human health: particulate matter formation\n",
      "Added method Brightway2 Method: ReCiPe Endpoint (I,A): human health: climate change: human health\n",
      "Added method Brightway2 Method: ReCiPe Endpoint (I,A): human health: photochemical oxidant formation\n",
      "Added method Brightway2 Method: ReCiPe Endpoint (I,A): human health: ozone depletion\n",
      "Added method Brightway2 Method: ReCiPe Endpoint (I,A): resources: fossil depletion\n",
      "Added method Brightway2 Method: ReCiPe Endpoint (I,A): resources: metal depletion\n",
      "Added method Brightway2 Method: ReCiPe Endpoint (I,A): resources: total\n",
      "Added method Brightway2 Method: ReCiPe Endpoint (I,A): total: total\n",
      "Added method Brightway2 Method: ReCiPe Endpoint (I,A): ecosystem quality: total\n",
      "Added method Brightway2 Method: ReCiPe Endpoint (I,A): human health: total\n",
      "Added method Brightway2 Method: ReCiPe Midpoint (E) V1.13 no LT: water depletion: WDP\n",
      "Added method Brightway2 Method: ReCiPe Midpoint (E) V1.13 no LT: fossil depletion: FDP\n",
      "Added method Brightway2 Method: ReCiPe Midpoint (E) V1.13 no LT: marine eutrophication: MEP\n",
      "Added method Brightway2 Method: ReCiPe Midpoint (E) V1.13 no LT: climate change: GWP500\n",
      "Added method Brightway2 Method: ReCiPe Midpoint (E) V1.13 no LT: agricultural land occupation: ALOP\n",
      "Added method Brightway2 Method: ReCiPe Midpoint (E) V1.13 no LT: human toxicity: HTPinf\n",
      "Added method Brightway2 Method: ReCiPe Midpoint (E) V1.13 no LT: marine ecotoxicity: METPinf\n",
      "Added method Brightway2 Method: ReCiPe Midpoint (E) V1.13 no LT: metal depletion: MDP\n",
      "Added method Brightway2 Method: ReCiPe Midpoint (E) V1.13 no LT: terrestrial ecotoxicity: TETPinf\n",
      "Added method Brightway2 Method: ReCiPe Midpoint (E) V1.13 no LT: particulate matter formation: PMFP\n",
      "Added method Brightway2 Method: ReCiPe Midpoint (E) V1.13 no LT: ionising radiation: IRP_HE\n",
      "Added method Brightway2 Method: ReCiPe Midpoint (E) V1.13 no LT: ozone depletion: ODPinf\n",
      "Added method Brightway2 Method: ReCiPe Midpoint (E) V1.13 no LT: natural land transformation: NLTP\n",
      "Added method Brightway2 Method: ReCiPe Midpoint (E) V1.13 no LT: terrestrial acidification: TAP500\n",
      "Added method Brightway2 Method: ReCiPe Midpoint (E) V1.13 no LT: freshwater ecotoxicity: FETPinf\n",
      "Added method Brightway2 Method: ReCiPe Midpoint (E) V1.13 no LT: urban land occupation: ULOP\n",
      "Added method Brightway2 Method: ReCiPe Midpoint (E) V1.13 no LT: photochemical oxidant formation: POFP\n",
      "Added method Brightway2 Method: ReCiPe Midpoint (E) V1.13 no LT: freshwater eutrophication: FEP\n",
      "Added method Brightway2 Method: ReCiPe Midpoint (E) V1.13: water depletion: WDP\n",
      "Added method Brightway2 Method: ReCiPe Midpoint (E) V1.13: fossil depletion: FDP\n",
      "Added method Brightway2 Method: ReCiPe Midpoint (E) V1.13: marine eutrophication: MEP\n",
      "Added method Brightway2 Method: ReCiPe Midpoint (E) V1.13: climate change: GWP500\n",
      "Added method Brightway2 Method: ReCiPe Midpoint (E) V1.13: agricultural land occupation: ALOP\n",
      "Added method Brightway2 Method: ReCiPe Midpoint (E) V1.13: human toxicity: HTPinf\n",
      "Added method Brightway2 Method: ReCiPe Midpoint (E) V1.13: marine ecotoxicity: METPinf\n",
      "Added method Brightway2 Method: ReCiPe Midpoint (E) V1.13: metal depletion: MDP\n",
      "Added method Brightway2 Method: ReCiPe Midpoint (E) V1.13: terrestrial ecotoxicity: TETPinf\n",
      "Added method Brightway2 Method: ReCiPe Midpoint (E) V1.13: particulate matter formation: PMFP\n",
      "Added method Brightway2 Method: ReCiPe Midpoint (E) V1.13: ionising radiation: IRP_HE\n",
      "Added method Brightway2 Method: ReCiPe Midpoint (E) V1.13: ozone depletion: ODPinf\n",
      "Added method Brightway2 Method: ReCiPe Midpoint (E) V1.13: natural land transformation: NLTP\n",
      "Added method Brightway2 Method: ReCiPe Midpoint (E) V1.13: terrestrial acidification: TAP500\n",
      "Added method Brightway2 Method: ReCiPe Midpoint (E) V1.13: freshwater ecotoxicity: FETPinf\n",
      "Added method Brightway2 Method: ReCiPe Midpoint (E) V1.13: urban land occupation: ULOP\n",
      "Added method Brightway2 Method: ReCiPe Midpoint (E) V1.13: photochemical oxidant formation: POFP\n",
      "Added method Brightway2 Method: ReCiPe Midpoint (E) V1.13: freshwater eutrophication: FEP\n",
      "Added method Brightway2 Method: ReCiPe Midpoint (E) w/o LT: freshwater ecotoxicity w/o LT: FETPinf w/o LT\n",
      "Added method Brightway2 Method: ReCiPe Midpoint (E) w/o LT: ionising radiation w/o LT: IRP_HE w/o LT\n",
      "Added method Brightway2 Method: ReCiPe Midpoint (E) w/o LT: climate change w/o LT: GWP500 w/o LT\n",
      "Added method Brightway2 Method: ReCiPe Midpoint (E) w/o LT: fossil depletion w/o LT: FDP w/o LT\n",
      "Added method Brightway2 Method: ReCiPe Midpoint (E) w/o LT: water depletion w/o LT: WDP w/o LT\n",
      "Added method Brightway2 Method: ReCiPe Midpoint (E) w/o LT: ozone depletion w/o LT: ODPinf w/o LT\n",
      "Added method Brightway2 Method: ReCiPe Midpoint (E) w/o LT: marine eutrophication w/o LT: MEP w/o LT\n",
      "Added method Brightway2 Method: ReCiPe Midpoint (E) w/o LT: freshwater eutrophication w/o LT: FEP w/o LT\n",
      "Added method Brightway2 Method: ReCiPe Midpoint (E) w/o LT: terrestrial ecotoxicity w/o LT: TETPinf w/o LT\n",
      "Added method Brightway2 Method: ReCiPe Midpoint (E) w/o LT: particulate matter formation w/o LT: PMFP w/o LT\n",
      "Added method Brightway2 Method: ReCiPe Midpoint (E) w/o LT: urban land occupation w/o LT: ULOP w/o LT\n",
      "Added method Brightway2 Method: ReCiPe Midpoint (E) w/o LT: terrestrial acidification w/o LT: TAP500 w/o LT\n",
      "Added method Brightway2 Method: ReCiPe Midpoint (E) w/o LT: human toxicity w/o LT: HTPinf w/o LT\n",
      "Added method Brightway2 Method: ReCiPe Midpoint (E) w/o LT: agricultural land occupation w/o LT: ALOP w/o LT\n",
      "Added method Brightway2 Method: ReCiPe Midpoint (E) w/o LT: marine ecotoxicity w/o LT: METPinf w/o LT\n",
      "Added method Brightway2 Method: ReCiPe Midpoint (E) w/o LT: photochemical oxidant formation w/o LT: POFP w/o LT\n",
      "Added method Brightway2 Method: ReCiPe Midpoint (E) w/o LT: metal depletion w/o LT: MDP w/o LT\n",
      "Added method Brightway2 Method: ReCiPe Midpoint (E) w/o LT: natural land transformation w/o LT: NLTP w/o LT\n",
      "Added method Brightway2 Method: ReCiPe Midpoint (E): terrestrial ecotoxicity: TETPinf\n",
      "Added method Brightway2 Method: ReCiPe Midpoint (E): natural land transformation: NLTP\n",
      "Added method Brightway2 Method: ReCiPe Midpoint (E): photochemical oxidant formation: POFP\n",
      "Added method Brightway2 Method: ReCiPe Midpoint (E): human toxicity: HTPinf\n",
      "Added method Brightway2 Method: ReCiPe Midpoint (E): marine eutrophication: MEP\n",
      "Added method Brightway2 Method: ReCiPe Midpoint (E): climate change: GWP500\n",
      "Added method Brightway2 Method: ReCiPe Midpoint (E): particulate matter formation: PMFP\n",
      "Added method Brightway2 Method: ReCiPe Midpoint (E): agricultural land occupation: ALOP\n",
      "Added method Brightway2 Method: ReCiPe Midpoint (E): freshwater eutrophication: FEP\n",
      "Added method Brightway2 Method: ReCiPe Midpoint (E): metal depletion: MDP\n",
      "Added method Brightway2 Method: ReCiPe Midpoint (E): terrestrial acidification: TAP500\n",
      "Added method Brightway2 Method: ReCiPe Midpoint (E): water depletion: WDP\n",
      "Added method Brightway2 Method: ReCiPe Midpoint (E): urban land occupation: ULOP\n",
      "Added method Brightway2 Method: ReCiPe Midpoint (E): ionising radiation: IRP_HE\n",
      "Added method Brightway2 Method: ReCiPe Midpoint (E): fossil depletion: FDP\n",
      "Added method Brightway2 Method: ReCiPe Midpoint (E): freshwater ecotoxicity: FETPinf\n",
      "Added method Brightway2 Method: ReCiPe Midpoint (E): marine ecotoxicity: METPinf\n",
      "Added method Brightway2 Method: ReCiPe Midpoint (E): ozone depletion: ODPinf\n",
      "Added method Brightway2 Method: ReCiPe Midpoint (H) V1.13 no LT: agricultural land occupation: ALOP\n",
      "Added method Brightway2 Method: ReCiPe Midpoint (H) V1.13 no LT: ozone depletion: ODPinf\n",
      "Added method Brightway2 Method: ReCiPe Midpoint (H) V1.13 no LT: climate change: GWP100\n",
      "Added method Brightway2 Method: ReCiPe Midpoint (H) V1.13 no LT: terrestrial acidification: TAP100\n",
      "Added method Brightway2 Method: ReCiPe Midpoint (H) V1.13 no LT: photochemical oxidant formation: POFP\n",
      "Added method Brightway2 Method: ReCiPe Midpoint (H) V1.13 no LT: metal depletion: MDP\n",
      "Added method Brightway2 Method: ReCiPe Midpoint (H) V1.13 no LT: water depletion: WDP\n",
      "Added method Brightway2 Method: ReCiPe Midpoint (H) V1.13 no LT: freshwater ecotoxicity: FETPinf\n",
      "Added method Brightway2 Method: ReCiPe Midpoint (H) V1.13 no LT: human toxicity: HTPinf\n",
      "Added method Brightway2 Method: ReCiPe Midpoint (H) V1.13 no LT: urban land occupation: ULOP\n",
      "Added method Brightway2 Method: ReCiPe Midpoint (H) V1.13 no LT: particulate matter formation: PMFP\n",
      "Added method Brightway2 Method: ReCiPe Midpoint (H) V1.13 no LT: freshwater eutrophication: FEP\n",
      "Added method Brightway2 Method: ReCiPe Midpoint (H) V1.13 no LT: natural land transformation: NLTP\n",
      "Added method Brightway2 Method: ReCiPe Midpoint (H) V1.13 no LT: marine eutrophication: MEP\n",
      "Added method Brightway2 Method: ReCiPe Midpoint (H) V1.13 no LT: terrestrial ecotoxicity: TETPinf\n",
      "Added method Brightway2 Method: ReCiPe Midpoint (H) V1.13 no LT: fossil depletion: FDP\n",
      "Added method Brightway2 Method: ReCiPe Midpoint (H) V1.13 no LT: ionising radiation: IRP_HE\n",
      "Added method Brightway2 Method: ReCiPe Midpoint (H) V1.13 no LT: marine ecotoxicity: METPinf\n",
      "Added method Brightway2 Method: ReCiPe Midpoint (H) V1.13: agricultural land occupation: ALOP\n",
      "Added method Brightway2 Method: ReCiPe Midpoint (H) V1.13: ozone depletion: ODPinf\n",
      "Added method Brightway2 Method: ReCiPe Midpoint (H) V1.13: climate change: GWP100\n",
      "Added method Brightway2 Method: ReCiPe Midpoint (H) V1.13: terrestrial acidification: TAP100\n",
      "Added method Brightway2 Method: ReCiPe Midpoint (H) V1.13: photochemical oxidant formation: POFP\n",
      "Added method Brightway2 Method: ReCiPe Midpoint (H) V1.13: metal depletion: MDP\n",
      "Added method Brightway2 Method: ReCiPe Midpoint (H) V1.13: water depletion: WDP\n",
      "Added method Brightway2 Method: ReCiPe Midpoint (H) V1.13: freshwater ecotoxicity: FETPinf\n",
      "Added method Brightway2 Method: ReCiPe Midpoint (H) V1.13: human toxicity: HTPinf\n",
      "Added method Brightway2 Method: ReCiPe Midpoint (H) V1.13: urban land occupation: ULOP\n",
      "Added method Brightway2 Method: ReCiPe Midpoint (H) V1.13: particulate matter formation: PMFP\n",
      "Added method Brightway2 Method: ReCiPe Midpoint (H) V1.13: freshwater eutrophication: FEP\n",
      "Added method Brightway2 Method: ReCiPe Midpoint (H) V1.13: natural land transformation: NLTP\n",
      "Added method Brightway2 Method: ReCiPe Midpoint (H) V1.13: marine eutrophication: MEP\n",
      "Added method Brightway2 Method: ReCiPe Midpoint (H) V1.13: terrestrial ecotoxicity: TETPinf\n",
      "Added method Brightway2 Method: ReCiPe Midpoint (H) V1.13: fossil depletion: FDP\n",
      "Added method Brightway2 Method: ReCiPe Midpoint (H) V1.13: ionising radiation: IRP_HE\n",
      "Added method Brightway2 Method: ReCiPe Midpoint (H) V1.13: marine ecotoxicity: METPinf\n",
      "Added method Brightway2 Method: ReCiPe Midpoint (H) w/o LT: freshwater ecotoxicity w/o LT: FETPinf w/o LT\n",
      "Added method Brightway2 Method: ReCiPe Midpoint (H) w/o LT: ionising radiation w/o LT: IRP_HE w/o LT\n",
      "Added method Brightway2 Method: ReCiPe Midpoint (H) w/o LT: climate change w/o LT: GWP100 w/o LT\n",
      "Added method Brightway2 Method: ReCiPe Midpoint (H) w/o LT: fossil depletion w/o LT: FDP w/o LT\n",
      "Added method Brightway2 Method: ReCiPe Midpoint (H) w/o LT: water depletion w/o LT: WDP w/o LT\n",
      "Added method Brightway2 Method: ReCiPe Midpoint (H) w/o LT: ozone depletion w/o LT: ODPinf w/o LT\n",
      "Added method Brightway2 Method: ReCiPe Midpoint (H) w/o LT: marine eutrophication w/o LT: MEP w/o LT\n",
      "Added method Brightway2 Method: ReCiPe Midpoint (H) w/o LT: freshwater eutrophication w/o LT: FEP w/o LT\n",
      "Added method Brightway2 Method: ReCiPe Midpoint (H) w/o LT: terrestrial ecotoxicity w/o LT: TETPinf w/o LT\n",
      "Added method Brightway2 Method: ReCiPe Midpoint (H) w/o LT: particulate matter formation w/o LT: PMFP w/o LT\n",
      "Added method Brightway2 Method: ReCiPe Midpoint (H) w/o LT: urban land occupation w/o LT: ULOP w/o LT\n",
      "Added method Brightway2 Method: ReCiPe Midpoint (H) w/o LT: terrestrial acidification w/o LT: TAP100 w/o LT\n",
      "Added method Brightway2 Method: ReCiPe Midpoint (H) w/o LT: human toxicity w/o LT: HTPinf w/o LT\n",
      "Added method Brightway2 Method: ReCiPe Midpoint (H) w/o LT: agricultural land occupation w/o LT: ALOP w/o LT\n",
      "Added method Brightway2 Method: ReCiPe Midpoint (H) w/o LT: marine ecotoxicity w/o LT: METPinf w/o LT\n",
      "Added method Brightway2 Method: ReCiPe Midpoint (H) w/o LT: photochemical oxidant formation w/o LT: POFP w/o LT\n",
      "Added method Brightway2 Method: ReCiPe Midpoint (H) w/o LT: metal depletion w/o LT: MDP w/o LT\n",
      "Added method Brightway2 Method: ReCiPe Midpoint (H) w/o LT: natural land transformation w/o LT: NLTP w/o LT\n",
      "Added method Brightway2 Method: ReCiPe Midpoint (H): terrestrial ecotoxicity: TETPinf\n",
      "Added method Brightway2 Method: ReCiPe Midpoint (H): natural land transformation: NLTP\n",
      "Added method Brightway2 Method: ReCiPe Midpoint (H): photochemical oxidant formation: POFP\n",
      "Added method Brightway2 Method: ReCiPe Midpoint (H): human toxicity: HTPinf\n",
      "Added method Brightway2 Method: ReCiPe Midpoint (H): marine eutrophication: MEP\n",
      "Added method Brightway2 Method: ReCiPe Midpoint (H): climate change: GWP100\n",
      "Added method Brightway2 Method: ReCiPe Midpoint (H): particulate matter formation: PMFP\n",
      "Added method Brightway2 Method: ReCiPe Midpoint (H): agricultural land occupation: ALOP\n",
      "Added method Brightway2 Method: ReCiPe Midpoint (H): freshwater eutrophication: FEP\n",
      "Added method Brightway2 Method: ReCiPe Midpoint (H): metal depletion: MDP\n",
      "Added method Brightway2 Method: ReCiPe Midpoint (H): terrestrial acidification: TAP100\n",
      "Added method Brightway2 Method: ReCiPe Midpoint (H): water depletion: WDP\n",
      "Added method Brightway2 Method: ReCiPe Midpoint (H): urban land occupation: ULOP\n",
      "Added method Brightway2 Method: ReCiPe Midpoint (H): ionising radiation: IRP_HE\n",
      "Added method Brightway2 Method: ReCiPe Midpoint (H): fossil depletion: FDP\n",
      "Added method Brightway2 Method: ReCiPe Midpoint (H): freshwater ecotoxicity: FETPinf\n",
      "Added method Brightway2 Method: ReCiPe Midpoint (H): marine ecotoxicity: METPinf\n",
      "Added method Brightway2 Method: ReCiPe Midpoint (H): ozone depletion: ODPinf\n",
      "Added method Brightway2 Method: ReCiPe Midpoint (I) V1.13: climate change: GWP20\n",
      "Added method Brightway2 Method: ReCiPe Midpoint (I) V1.13: ionising radiation: IRP_I\n",
      "Added method Brightway2 Method: ReCiPe Midpoint (I) V1.13: marine eutrophication: MEP\n",
      "Added method Brightway2 Method: ReCiPe Midpoint (I) V1.13: freshwater eutrophication: FEP\n",
      "Added method Brightway2 Method: ReCiPe Midpoint (I) V1.13: metal depletion: MDP\n",
      "Added method Brightway2 Method: ReCiPe Midpoint (I) V1.13: photochemical oxidant formation: POFP\n",
      "Added method Brightway2 Method: ReCiPe Midpoint (I) V1.13: particulate matter formation: PMFP\n",
      "Added method Brightway2 Method: ReCiPe Midpoint (I) V1.13: water depletion: WDP\n",
      "Added method Brightway2 Method: ReCiPe Midpoint (I) V1.13: freshwater ecotoxicity: FETP100\n",
      "Added method Brightway2 Method: ReCiPe Midpoint (I) V1.13: human toxicity: HTP100\n",
      "Added method Brightway2 Method: ReCiPe Midpoint (I) V1.13: agricultural land occupation: ALOP\n",
      "Added method Brightway2 Method: ReCiPe Midpoint (I) V1.13: marine ecotoxicity: METP100\n",
      "Added method Brightway2 Method: ReCiPe Midpoint (I) V1.13: terrestrial ecotoxicity: TETP100\n",
      "Added method Brightway2 Method: ReCiPe Midpoint (I) V1.13: terrestrial acidification: TAP20\n",
      "Added method Brightway2 Method: ReCiPe Midpoint (I) V1.13: fossil depletion: FDP\n",
      "Added method Brightway2 Method: ReCiPe Midpoint (I) V1.13: natural land transformation: NLTP\n",
      "Added method Brightway2 Method: ReCiPe Midpoint (I) V1.13: ozone depletion: ODPinf\n",
      "Added method Brightway2 Method: ReCiPe Midpoint (I) V1.13: urban land occupation: ULOP\n",
      "Added method Brightway2 Method: ReCiPe Midpoint (I): terrestrial ecotoxicity: TETP100\n",
      "Added method Brightway2 Method: ReCiPe Midpoint (I): natural land transformation: NLTP\n",
      "Added method Brightway2 Method: ReCiPe Midpoint (I): photochemical oxidant formation: POFP\n",
      "Added method Brightway2 Method: ReCiPe Midpoint (I): human toxicity: HTP100\n",
      "Added method Brightway2 Method: ReCiPe Midpoint (I): marine eutrophication: MEP\n",
      "Added method Brightway2 Method: ReCiPe Midpoint (I): climate change: GWP20\n",
      "Added method Brightway2 Method: ReCiPe Midpoint (I): particulate matter formation: PMFP\n",
      "Added method Brightway2 Method: ReCiPe Midpoint (I): agricultural land occupation: ALOP\n",
      "Added method Brightway2 Method: ReCiPe Midpoint (I): freshwater eutrophication: FEP\n",
      "Added method Brightway2 Method: ReCiPe Midpoint (I): metal depletion: MDP\n",
      "Added method Brightway2 Method: ReCiPe Midpoint (I): terrestrial acidification: TAP20\n",
      "Added method Brightway2 Method: ReCiPe Midpoint (I): water depletion: WDP\n",
      "Added method Brightway2 Method: ReCiPe Midpoint (I): urban land occupation: ULOP\n",
      "Added method Brightway2 Method: ReCiPe Midpoint (I): ionising radiation: IRP_I\n",
      "Added method Brightway2 Method: ReCiPe Midpoint (I): fossil depletion: FDP\n",
      "Added method Brightway2 Method: ReCiPe Midpoint (I): freshwater ecotoxicity: FETP100\n",
      "Added method Brightway2 Method: ReCiPe Midpoint (I): marine ecotoxicity: METP100\n",
      "Added method Brightway2 Method: ReCiPe Midpoint (I): ozone depletion: ODPinf\n"
     ]
    }
   ],
   "source": [
    "recipe_cfs = pd.read_csv(\"../data/cfs_old_recipe_methods_mapped_w_keys_ei310.csv\").dropna(subset=\"mapped key\")\n",
    "\n",
    "add_methods_from_dataframe(recipe_cfs)"
   ]
  },
  {
   "cell_type": "markdown",
   "metadata": {},
   "source": [
    "## EDIP methods"
   ]
  },
  {
   "cell_type": "code",
   "execution_count": 90,
   "metadata": {},
   "outputs": [],
   "source": [
    "df_edip= pd.read_csv(\"../data/cfs_edip_methods.csv\")"
   ]
  },
  {
   "cell_type": "code",
   "execution_count": 91,
   "metadata": {},
   "outputs": [],
   "source": [
    "df_edip[\"new flow name\"] = df_edip[\"flow name\"].apply(map_flow_name)"
   ]
  },
  {
   "cell_type": "code",
   "execution_count": 92,
   "metadata": {},
   "outputs": [
    {
     "data": {
      "text/html": [
       "<div>\n",
       "<style scoped>\n",
       "    .dataframe tbody tr th:only-of-type {\n",
       "        vertical-align: middle;\n",
       "    }\n",
       "\n",
       "    .dataframe tbody tr th {\n",
       "        vertical-align: top;\n",
       "    }\n",
       "\n",
       "    .dataframe thead th {\n",
       "        text-align: right;\n",
       "    }\n",
       "</style>\n",
       "<table border=\"1\" class=\"dataframe\">\n",
       "  <thead>\n",
       "    <tr style=\"text-align: right;\">\n",
       "      <th></th>\n",
       "      <th>method</th>\n",
       "      <th>unit</th>\n",
       "      <th>flow name</th>\n",
       "      <th>flow categories</th>\n",
       "      <th>CF</th>\n",
       "      <th>new flow name</th>\n",
       "    </tr>\n",
       "  </thead>\n",
       "  <tbody>\n",
       "  </tbody>\n",
       "</table>\n",
       "</div>"
      ],
      "text/plain": [
       "Empty DataFrame\n",
       "Columns: [method, unit, flow name, flow categories, CF, new flow name]\n",
       "Index: []"
      ]
     },
     "execution_count": 92,
     "metadata": {},
     "output_type": "execute_result"
    }
   ],
   "source": [
    "df_edip[df_edip[\"new flow name\"].isna()]"
   ]
  },
  {
   "cell_type": "code",
   "execution_count": 72,
   "metadata": {},
   "outputs": [],
   "source": [
    "df_edip.dropna(subset=\"new flow name\", inplace=True)"
   ]
  },
  {
   "cell_type": "code",
   "execution_count": 73,
   "metadata": {},
   "outputs": [
    {
     "name": "stderr",
     "output_type": "stream",
     "text": [
      "C:\\Users\\davidba\\AppData\\Local\\Temp\\ipykernel_15924\\2530644479.py:4: UserWarning: Boolean Series key will be reindexed to match DataFrame index.\n",
      "  idx_remove = df_edip[df_edip[\"flow categories\"] == \"('air', 'lower stratosphere + upper troposphere')\"][~df_edip[\"new flow name\"].isin(not_change)].index\n"
     ]
    }
   ],
   "source": [
    "db = bw.Database(\"ecoinvent-3.10-biosphere\")\n",
    "\n",
    "not_change = [act[\"name\"] for act in db if act[\"categories\"] == ('air', 'lower stratosphere + upper troposphere')]\n",
    "idx_remove = df_edip[df_edip[\"flow categories\"] == \"('air', 'lower stratosphere + upper troposphere')\"][~df_edip[\"new flow name\"].isin(not_change)].index\n",
    "df_edip = df_edip.drop(index=idx_remove)"
   ]
  },
  {
   "cell_type": "code",
   "execution_count": 74,
   "metadata": {},
   "outputs": [],
   "source": [
    "db = bw.Database(\"ecoinvent-3.10-biosphere\")\n",
    "\n",
    "all_names = list(set([act[\"name\"] for act in db]))\n",
    "\n",
    "needed_names = list(df_edip[\"new flow name\"].unique())\n",
    "\n",
    "for n in needed_names:\n",
    "    if n not in all_names:\n",
    "        print(\"{} not found.\".format(n))"
   ]
  },
  {
   "cell_type": "code",
   "execution_count": 75,
   "metadata": {},
   "outputs": [],
   "source": [
    "db = bw.Database(\"ecoinvent-3.10-biosphere\")\n",
    "\n",
    "flowlist = []\n",
    "categorieslist = []\n",
    "keylist = []\n",
    "\n",
    "needed_flows = list(df_edip.groupby([\"new flow name\", \"flow categories\"]).size().index)\n",
    "flow_mapping = {(act[\"name\"], str(act[\"categories\"])): act.key for act in db}\n",
    "\n",
    "for f in needed_flows:\n",
    "    if f not in flow_mapping.keys():\n",
    "        print(f[1])"
   ]
  },
  {
   "cell_type": "code",
   "execution_count": 76,
   "metadata": {},
   "outputs": [],
   "source": [
    "df_edip[\"mapped key\"] = [flow_mapping[i] for i in df_edip.set_index([\"new flow name\", \"flow categories\"]).index]\n",
    "df_edip[[\"method\", \"unit\", \"new flow name\", \"flow categories\", \"mapped key\", \"CF\"]].to_csv(\"../data/cfs_edip_methods_mapped_w_keys_ei310.csv\", index=False)"
   ]
  },
  {
   "cell_type": "code",
   "execution_count": 78,
   "metadata": {},
   "outputs": [
    {
     "name": "stdout",
     "output_type": "stream",
     "text": [
      "Added method Brightway2 Method: EDIP 2003: acidification: acidification\n",
      "Added method Brightway2 Method: EDIP 2003: ecotoxicity: acute: in water\n",
      "Added method Brightway2 Method: EDIP 2003: ecotoxicity: chronic: in soil\n",
      "Added method Brightway2 Method: EDIP 2003: ecotoxicity: chronic: in water\n",
      "Added method Brightway2 Method: EDIP 2003: ecotoxicity: in sewage treatment plants\n",
      "Added method Brightway2 Method: EDIP 2003: eutrophication: combined potential\n",
      "Added method Brightway2 Method: EDIP 2003: eutrophication: separate N potential\n",
      "Added method Brightway2 Method: EDIP 2003: eutrophication: separate P potential\n",
      "Added method Brightway2 Method: EDIP 2003: eutrophication: terrestrial eutrophication\n",
      "Added method Brightway2 Method: EDIP 2003: global warming: GWP 100a\n",
      "Added method Brightway2 Method: EDIP 2003: global warming: GWP 20a\n",
      "Added method Brightway2 Method: EDIP 2003: global warming: GWP 500a\n",
      "Added method Brightway2 Method: EDIP 2003: human toxicity: via air\n",
      "Added method Brightway2 Method: EDIP 2003: human toxicity: via soil\n",
      "Added method Brightway2 Method: EDIP 2003: human toxicity: via surface water\n",
      "Added method Brightway2 Method: EDIP 2003: land filling: bulk waste\n",
      "Added method Brightway2 Method: EDIP 2003: land filling: hazardous waste\n",
      "Added method Brightway2 Method: EDIP 2003: land filling: radioactive waste\n",
      "Added method Brightway2 Method: EDIP 2003: land filling: slag and ashes\n",
      "Added method Brightway2 Method: EDIP 2003: non-renewable resources: aluminium\n",
      "Added method Brightway2 Method: EDIP 2003: non-renewable resources: antimony\n",
      "Added method Brightway2 Method: EDIP 2003: non-renewable resources: brown coal\n",
      "Added method Brightway2 Method: EDIP 2003: non-renewable resources: cadmium\n",
      "Added method Brightway2 Method: EDIP 2003: non-renewable resources: cerium\n",
      "Added method Brightway2 Method: EDIP 2003: non-renewable resources: coal\n",
      "Added method Brightway2 Method: EDIP 2003: non-renewable resources: cobalt\n",
      "Added method Brightway2 Method: EDIP 2003: non-renewable resources: copper\n",
      "Added method Brightway2 Method: EDIP 2003: non-renewable resources: gold\n",
      "Added method Brightway2 Method: EDIP 2003: non-renewable resources: iron\n",
      "Added method Brightway2 Method: EDIP 2003: non-renewable resources: lanthanum\n",
      "Added method Brightway2 Method: EDIP 2003: non-renewable resources: lead\n",
      "Added method Brightway2 Method: EDIP 2003: non-renewable resources: manganese\n",
      "Added method Brightway2 Method: EDIP 2003: non-renewable resources: mercury\n",
      "Added method Brightway2 Method: EDIP 2003: non-renewable resources: molybdenum\n",
      "Added method Brightway2 Method: EDIP 2003: non-renewable resources: natural gas\n",
      "Added method Brightway2 Method: EDIP 2003: non-renewable resources: nickel\n",
      "Added method Brightway2 Method: EDIP 2003: non-renewable resources: oil\n",
      "Added method Brightway2 Method: EDIP 2003: non-renewable resources: palladium\n",
      "Added method Brightway2 Method: EDIP 2003: non-renewable resources: platinum\n",
      "Added method Brightway2 Method: EDIP 2003: non-renewable resources: silver\n",
      "Added method Brightway2 Method: EDIP 2003: non-renewable resources: tantalum\n",
      "Added method Brightway2 Method: EDIP 2003: non-renewable resources: tin\n",
      "Added method Brightway2 Method: EDIP 2003: non-renewable resources: zinc\n",
      "Added method Brightway2 Method: EDIP 2003: photochemical ozone formation: impacts on human health\n",
      "Added method Brightway2 Method: EDIP 2003: photochemical ozone formation: impacts on vegetation\n",
      "Added method Brightway2 Method: EDIP 2003: renewable resources: wood\n",
      "Added method Brightway2 Method: EDIP 2003: stratospheric ozone depletion: ODP total\n"
     ]
    }
   ],
   "source": [
    "edip_cfs = pd.read_csv(\"../data/cfs_edip_methods_mapped_w_keys_ei310.csv\").dropna(subset=\"mapped key\")\n",
    "\n",
    "add_methods_from_dataframe(edip_cfs)"
   ]
  },
  {
   "cell_type": "markdown",
   "metadata": {},
   "source": [
    "## IMPACT 2002+"
   ]
  },
  {
   "cell_type": "code",
   "execution_count": 86,
   "metadata": {},
   "outputs": [],
   "source": [
    "df_impactplus= pd.read_csv(\"../data/cfs_impactplus_methods.csv\")"
   ]
  },
  {
   "cell_type": "code",
   "execution_count": 87,
   "metadata": {},
   "outputs": [],
   "source": [
    "df_impactplus[\"new flow name\"] = df_impactplus[\"flow name\"].apply(map_flow_name)"
   ]
  },
  {
   "cell_type": "code",
   "execution_count": 88,
   "metadata": {},
   "outputs": [
    {
     "data": {
      "text/html": [
       "<div>\n",
       "<style scoped>\n",
       "    .dataframe tbody tr th:only-of-type {\n",
       "        vertical-align: middle;\n",
       "    }\n",
       "\n",
       "    .dataframe tbody tr th {\n",
       "        vertical-align: top;\n",
       "    }\n",
       "\n",
       "    .dataframe thead th {\n",
       "        text-align: right;\n",
       "    }\n",
       "</style>\n",
       "<table border=\"1\" class=\"dataframe\">\n",
       "  <thead>\n",
       "    <tr style=\"text-align: right;\">\n",
       "      <th></th>\n",
       "      <th>method</th>\n",
       "      <th>unit</th>\n",
       "      <th>flow name</th>\n",
       "      <th>flow categories</th>\n",
       "      <th>CF</th>\n",
       "      <th>new flow name</th>\n",
       "    </tr>\n",
       "  </thead>\n",
       "  <tbody>\n",
       "  </tbody>\n",
       "</table>\n",
       "</div>"
      ],
      "text/plain": [
       "Empty DataFrame\n",
       "Columns: [method, unit, flow name, flow categories, CF, new flow name]\n",
       "Index: []"
      ]
     },
     "execution_count": 88,
     "metadata": {},
     "output_type": "execute_result"
    }
   ],
   "source": [
    "df_impactplus[df_impactplus[\"new flow name\"].isna()]"
   ]
  },
  {
   "cell_type": "code",
   "execution_count": 93,
   "metadata": {},
   "outputs": [],
   "source": [
    "df_impactplus.dropna(subset=\"new flow name\", inplace=True)"
   ]
  },
  {
   "cell_type": "code",
   "execution_count": 94,
   "metadata": {},
   "outputs": [
    {
     "name": "stderr",
     "output_type": "stream",
     "text": [
      "C:\\Users\\davidba\\AppData\\Local\\Temp\\ipykernel_15924\\891340877.py:4: UserWarning: Boolean Series key will be reindexed to match DataFrame index.\n",
      "  idx_remove = df_impactplus[df_impactplus[\"flow categories\"] == \"('air', 'lower stratosphere + upper troposphere')\"][~df_impactplus[\"new flow name\"].isin(not_change)].index\n"
     ]
    }
   ],
   "source": [
    "db = bw.Database(\"ecoinvent-3.10-biosphere\")\n",
    "\n",
    "not_change = [act[\"name\"] for act in db if act[\"categories\"] == ('air', 'lower stratosphere + upper troposphere')]\n",
    "idx_remove = df_impactplus[df_impactplus[\"flow categories\"] == \"('air', 'lower stratosphere + upper troposphere')\"][~df_impactplus[\"new flow name\"].isin(not_change)].index\n",
    "df_impactplus = df_impactplus.drop(index=idx_remove)"
   ]
  },
  {
   "cell_type": "code",
   "execution_count": 95,
   "metadata": {},
   "outputs": [],
   "source": [
    "db = bw.Database(\"ecoinvent-3.10-biosphere\")\n",
    "\n",
    "all_names = list(set([act[\"name\"] for act in db]))\n",
    "\n",
    "needed_names = list(df_impactplus[\"new flow name\"].unique())\n",
    "\n",
    "for n in needed_names:\n",
    "    if n not in all_names:\n",
    "        print(\"{} not found.\".format(n))"
   ]
  },
  {
   "cell_type": "code",
   "execution_count": 96,
   "metadata": {},
   "outputs": [],
   "source": [
    "db = bw.Database(\"ecoinvent-3.10-biosphere\")\n",
    "\n",
    "flowlist = []\n",
    "categorieslist = []\n",
    "keylist = []\n",
    "\n",
    "needed_flows = list(df_impactplus.groupby([\"new flow name\", \"flow categories\"]).size().index)\n",
    "flow_mapping = {(act[\"name\"], str(act[\"categories\"])): act.key for act in db}\n",
    "\n",
    "for f in needed_flows:\n",
    "    if f not in flow_mapping.keys():\n",
    "        print(f[1])"
   ]
  },
  {
   "cell_type": "code",
   "execution_count": 97,
   "metadata": {},
   "outputs": [],
   "source": [
    "df_impactplus[\"mapped key\"] = [flow_mapping[i] for i in df_impactplus.set_index([\"new flow name\", \"flow categories\"]).index]\n",
    "df_impactplus[[\"method\", \"unit\", \"new flow name\", \"flow categories\", \"mapped key\", \"CF\"]].to_csv(\"../data/cfs_impactplus_methods_mapped_w_keys_ei310.csv\", index=False)"
   ]
  },
  {
   "cell_type": "code",
   "execution_count": 98,
   "metadata": {},
   "outputs": [
    {
     "name": "stdout",
     "output_type": "stream",
     "text": [
      "Added method Brightway2 Method: IMPACT 2002+ (Endpoint): climate change: climate change\n",
      "Added method Brightway2 Method: IMPACT 2002+ (Endpoint): climate change: total\n",
      "Added method Brightway2 Method: IMPACT 2002+ (Endpoint): ecosystem quality: aquatic ecotoxicity\n",
      "Added method Brightway2 Method: IMPACT 2002+ (Endpoint): ecosystem quality: land occupation\n",
      "Added method Brightway2 Method: IMPACT 2002+ (Endpoint): ecosystem quality: terrestrial acidification & nutrification\n",
      "Added method Brightway2 Method: IMPACT 2002+ (Endpoint): ecosystem quality: terrestrial ecotoxicity\n",
      "Added method Brightway2 Method: IMPACT 2002+ (Endpoint): ecosystem quality: total\n",
      "Added method Brightway2 Method: IMPACT 2002+ (Endpoint): human health: human toxicity\n",
      "Added method Brightway2 Method: IMPACT 2002+ (Endpoint): human health: ionising radiation\n",
      "Added method Brightway2 Method: IMPACT 2002+ (Endpoint): human health: ozone layer depletion\n",
      "Added method Brightway2 Method: IMPACT 2002+ (Endpoint): human health: photochemical oxidation\n",
      "Added method Brightway2 Method: IMPACT 2002+ (Endpoint): human health: respiratory effects (inorganics)\n",
      "Added method Brightway2 Method: IMPACT 2002+ (Endpoint): human health: total\n",
      "Added method Brightway2 Method: IMPACT 2002+ (Endpoint): resources: mineral extraction\n",
      "Added method Brightway2 Method: IMPACT 2002+ (Endpoint): resources: non-renewable energy\n",
      "Added method Brightway2 Method: IMPACT 2002+ (Endpoint): resources: total\n",
      "Added method Brightway2 Method: IMPACT 2002+ (Midpoint): ecosystem quality: aquatic acidification\n",
      "Added method Brightway2 Method: IMPACT 2002+ (Midpoint): ecosystem quality: aquatic eutrophication\n"
     ]
    }
   ],
   "source": [
    "impactplus_cfs = pd.read_csv(\"../data/cfs_impactplus_methods_mapped_w_keys_ei310.csv\").dropna(subset=\"mapped key\")\n",
    "\n",
    "add_methods_from_dataframe(impactplus_cfs)"
   ]
  },
  {
   "cell_type": "markdown",
   "metadata": {},
   "source": [
    "## Monetization factors"
   ]
  },
  {
   "cell_type": "code",
   "execution_count": 99,
   "metadata": {},
   "outputs": [],
   "source": [
    "df2 = pd.read_csv(\"../data/mfs_all_factors.csv\").dropna(subset=\"LCIA method\")"
   ]
  },
  {
   "cell_type": "code",
   "execution_count": 100,
   "metadata": {},
   "outputs": [],
   "source": [
    "needed_methods = list(df2[\"LCIA method\"].unique())\n",
    "methods = [m for m in list(bw.methods) if \", \".join(list(m)) in needed_methods]"
   ]
  },
  {
   "cell_type": "code",
   "execution_count": 101,
   "metadata": {},
   "outputs": [],
   "source": [
    "cc_methods = [\n",
    "    (\"IPCC 2021\", \"climate change: biogenic\", \"GWP 100a\"),\n",
    "    (\"IPCC 2021\", \"climate change: land use\", \"GWP 100a\"),\n",
    "    (\"IPCC 2021\", \"climate change: fossil\", \"GWP 100a\")\n",
    "]\n",
    "methods = methods + cc_methods"
   ]
  },
  {
   "cell_type": "code",
   "execution_count": 102,
   "metadata": {},
   "outputs": [
    {
     "name": "stdout",
     "output_type": "stream",
     "text": [
      "73 methods needed, 73 methods found\n"
     ]
    }
   ],
   "source": [
    "print(\"{} methods needed, {} methods found\".format(len(needed_methods)+len(cc_methods), len(methods)))"
   ]
  },
  {
   "cell_type": "code",
   "execution_count": 103,
   "metadata": {},
   "outputs": [],
   "source": [
    "all_methods = [\", \".join(list(m)) for m in bw.methods]"
   ]
  },
  {
   "cell_type": "code",
   "execution_count": 104,
   "metadata": {},
   "outputs": [],
   "source": [
    "for m in needed_methods:\n",
    "    if not m in all_methods:\n",
    "        print(m)"
   ]
  },
  {
   "cell_type": "markdown",
   "metadata": {},
   "source": [
    "## Create mean costs brightway method"
   ]
  },
  {
   "cell_type": "code",
   "execution_count": 105,
   "metadata": {},
   "outputs": [],
   "source": [
    "mfs_mc_sample = xr.open_dataarray(\"../data/mfs_monte_carlo_sample_euro{}_larger.nc\".format(str(EURO_REF_YEAR)))"
   ]
  },
  {
   "cell_type": "code",
   "execution_count": 106,
   "metadata": {},
   "outputs": [],
   "source": [
    "mean_mfs_by_category = mfs_mc_sample.mean(dim=\"sample index\")"
   ]
  },
  {
   "cell_type": "code",
   "execution_count": 107,
   "metadata": {},
   "outputs": [],
   "source": [
    "def sum_up_CFs(CFlist):\n",
    "    keys = [CF[0] for CF in CFlist]\n",
    "    values = [CF[1] for CF in CFlist]\n",
    "    df = pd.DataFrame({\"keys\": keys, \"values\": values})\n",
    "    summed = df.groupby(\"keys\").sum()\n",
    "    return [[k, v] for k, v in zip(summed.index, summed[\"values\"])]"
   ]
  },
  {
   "cell_type": "code",
   "execution_count": 108,
   "metadata": {},
   "outputs": [],
   "source": [
    "for ic in list(mean_mfs_by_category.coords[\"impact category\"].values):\n",
    "    MFs = mean_mfs_by_category.sel({\"impact category\": ic})\n",
    "    new_key = (\"Monetization perspectives\", \"Monte Carlo mean\", \"by impact category\", ic)\n",
    "    nonzero = MFs.loc[MFs != 0]\n",
    "    relevant_methods = [m for m in bw.methods if \", \".join(list(m)) in list(nonzero.coords[\"LCIA method\"].values)]\n",
    "    CFs = []\n",
    "    for m in relevant_methods:\n",
    "        MF = float(MFs.sel({\"LCIA method\": \", \".join(list(m))}))\n",
    "        for flow in bw.Method(m).load():\n",
    "            new_CF = list(flow)\n",
    "            new_CF[1] = new_CF[1] * MF\n",
    "            CFs.append(new_CF)\n",
    "    CFs = sum_up_CFs(CFs)\n",
    "    new_method = bw.Method(new_key)\n",
    "    new_method.validate(CFs)\n",
    "    new_method.register(unit=\"EUR{}\".format(EURO_REF_YEAR))\n",
    "    new_method.write(CFs)     "
   ]
  },
  {
   "cell_type": "code",
   "execution_count": 109,
   "metadata": {},
   "outputs": [],
   "source": [
    "ics_to_add = [k for k in impact2color.keys() if \"fossil\" not in k]"
   ]
  },
  {
   "cell_type": "code",
   "execution_count": 110,
   "metadata": {},
   "outputs": [],
   "source": [
    "mean_mfs_total = mean_mfs_by_category.sel({\"impact category\": ics_to_add}).sum(dim=\"impact category\")"
   ]
  },
  {
   "cell_type": "code",
   "execution_count": 111,
   "metadata": {},
   "outputs": [],
   "source": [
    "new_key = (\"Monetization perspectives\", \"Monte Carlo mean\", \"total costs\")\n",
    "CFs = []\n",
    "for mstr in list(mean_mfs_total.coords[\"LCIA method\"].values):\n",
    "    mtuple = [m for m in bw.methods if \", \".join(list(m)) == mstr][0]\n",
    "    MF = float(mean_mfs_total.sel({\"LCIA method\": mstr}))\n",
    "    for flow in bw.Method(mtuple).load():\n",
    "        new_CF = list(flow)\n",
    "        new_CF[1] = new_CF[1] * MF\n",
    "        CFs.append(new_CF)\n",
    "CFs = sum_up_CFs(CFs)\n",
    "new_method = bw.Method(new_key)\n",
    "new_method.validate(CFs)\n",
    "new_method.register(unit=\"EUR{}\".format(EURO_REF_YEAR))\n",
    "new_method.write(CFs)"
   ]
  },
  {
   "cell_type": "code",
   "execution_count": 112,
   "metadata": {},
   "outputs": [],
   "source": [
    "mfs_perspectives_cc = xr.open_dataarray(\"../data/mfs_perspectives_extended_euro_{}.nc\".format(EURO_REF_YEAR))"
   ]
  },
  {
   "cell_type": "code",
   "execution_count": 113,
   "metadata": {},
   "outputs": [],
   "source": [
    "mfs_perspectives = mfs_perspectives_cc.sel({\"impact category\": [k for k in impact2color.keys()]})"
   ]
  },
  {
   "cell_type": "code",
   "execution_count": 114,
   "metadata": {},
   "outputs": [
    {
     "name": "stdout",
     "output_type": "stream",
     "text": [
      "33 CFs for ('Monetization perspectives', 'budget constraint', 'by impact category', 'acidification')\n",
      "208 CFs for ('Monetization perspectives', 'budget constraint', 'by impact category', 'climate change')\n",
      "1286 CFs for ('Monetization perspectives', 'budget constraint', 'by impact category', 'ecotoxicity')\n",
      "122 CFs for ('Monetization perspectives', 'budget constraint', 'by impact category', 'eutrophication')\n",
      "fossil resources no covered in budget constraint\n",
      "607 CFs for ('Monetization perspectives', 'budget constraint', 'by impact category', 'human toxicity')\n",
      "130 CFs for ('Monetization perspectives', 'budget constraint', 'by impact category', 'ionizing radiation')\n",
      "30 CFs for ('Monetization perspectives', 'budget constraint', 'by impact category', 'land use')\n",
      "43 CFs for ('Monetization perspectives', 'budget constraint', 'by impact category', 'metal/mineral resources')\n",
      "76 CFs for ('Monetization perspectives', 'budget constraint', 'by impact category', 'ozone depletion')\n",
      "28 CFs for ('Monetization perspectives', 'budget constraint', 'by impact category', 'particulate matter formation')\n",
      "846 CFs for ('Monetization perspectives', 'budget constraint', 'by impact category', 'photochemical oxidant formation')\n",
      "water use no covered in budget constraint\n",
      "26 CFs for ('Monetization perspectives', 'damage costs', 'by impact category', 'acidification')\n",
      "208 CFs for ('Monetization perspectives', 'damage costs', 'by impact category', 'climate change')\n",
      "5088 CFs for ('Monetization perspectives', 'damage costs', 'by impact category', 'ecotoxicity')\n",
      "13 CFs for ('Monetization perspectives', 'damage costs', 'by impact category', 'eutrophication')\n",
      "fossil resources no covered in damage costs\n",
      "1634 CFs for ('Monetization perspectives', 'damage costs', 'by impact category', 'human toxicity')\n",
      "166 CFs for ('Monetization perspectives', 'damage costs', 'by impact category', 'ionizing radiation')\n",
      "51 CFs for ('Monetization perspectives', 'damage costs', 'by impact category', 'land use')\n",
      "metal/mineral resources no covered in damage costs\n",
      "50 CFs for ('Monetization perspectives', 'damage costs', 'by impact category', 'ozone depletion')\n",
      "29 CFs for ('Monetization perspectives', 'damage costs', 'by impact category', 'particulate matter formation')\n",
      "326 CFs for ('Monetization perspectives', 'damage costs', 'by impact category', 'photochemical oxidant formation')\n",
      "5 CFs for ('Monetization perspectives', 'damage costs', 'by impact category', 'water use')\n",
      "20 CFs for ('Monetization perspectives', 'prevention costs', 'by impact category', 'acidification')\n",
      "208 CFs for ('Monetization perspectives', 'prevention costs', 'by impact category', 'climate change')\n",
      "2406 CFs for ('Monetization perspectives', 'prevention costs', 'by impact category', 'ecotoxicity')\n",
      "35 CFs for ('Monetization perspectives', 'prevention costs', 'by impact category', 'eutrophication')\n",
      "fossil resources no covered in prevention costs\n",
      "2422 CFs for ('Monetization perspectives', 'prevention costs', 'by impact category', 'human toxicity')\n",
      "ionizing radiation no covered in prevention costs\n",
      "51 CFs for ('Monetization perspectives', 'prevention costs', 'by impact category', 'land use')\n",
      "59 CFs for ('Monetization perspectives', 'prevention costs', 'by impact category', 'metal/mineral resources')\n",
      "61 CFs for ('Monetization perspectives', 'prevention costs', 'by impact category', 'ozone depletion')\n",
      "29 CFs for ('Monetization perspectives', 'prevention costs', 'by impact category', 'particulate matter formation')\n",
      "326 CFs for ('Monetization perspectives', 'prevention costs', 'by impact category', 'photochemical oxidant formation')\n",
      "5 CFs for ('Monetization perspectives', 'prevention costs', 'by impact category', 'water use')\n",
      "23 CFs for ('Monetization perspectives', 'taxation costs', 'by impact category', 'acidification')\n",
      "208 CFs for ('Monetization perspectives', 'taxation costs', 'by impact category', 'climate change')\n",
      "4391 CFs for ('Monetization perspectives', 'taxation costs', 'by impact category', 'ecotoxicity')\n",
      "83 CFs for ('Monetization perspectives', 'taxation costs', 'by impact category', 'eutrophication')\n",
      "5 CFs for ('Monetization perspectives', 'taxation costs', 'by impact category', 'fossil resources')\n",
      "1133 CFs for ('Monetization perspectives', 'taxation costs', 'by impact category', 'human toxicity')\n",
      "ionizing radiation no covered in taxation costs\n",
      "land use no covered in taxation costs\n",
      "metal/mineral resources no covered in taxation costs\n",
      "65 CFs for ('Monetization perspectives', 'taxation costs', 'by impact category', 'ozone depletion')\n",
      "particulate matter formation no covered in taxation costs\n",
      "256 CFs for ('Monetization perspectives', 'taxation costs', 'by impact category', 'photochemical oxidant formation')\n",
      "water use no covered in taxation costs\n"
     ]
    }
   ],
   "source": [
    "for perspective in list(mfs_perspectives.coords[\"perspective\"].values):\n",
    "    for ic in list(mfs_perspectives.coords[\"impact category\"].values):\n",
    "        MFs = mfs_perspectives.sel({\"impact category\": ic, \"perspective\": perspective})\n",
    "        new_key = (\"Monetization perspectives\", perspective, \"by impact category\", ic)\n",
    "        nonzero = MFs.loc[MFs != 0]\n",
    "        if nonzero.size == 0:\n",
    "            print(\"{} no covered in {}\".format(ic, perspective))\n",
    "        else:\n",
    "            relevant_methods = [m for m in bw.methods if \", \".join(list(m)) in list(nonzero.coords[\"LCIA method\"].values)]\n",
    "            CFs = []\n",
    "            for m in relevant_methods:\n",
    "                MF = float(MFs.sel({\"LCIA method\": \", \".join(list(m))}))\n",
    "                for flow in bw.Method(m).load():\n",
    "                    new_CF = list(flow)\n",
    "                    new_CF[1] = new_CF[1] * MF\n",
    "                    CFs.append(new_CF)\n",
    "            print(\"{} CFs for {}\".format(len(CFs), str(new_key)))\n",
    "            CFs = sum_up_CFs(CFs)\n",
    "            new_method = bw.Method(new_key)\n",
    "            new_method.validate(CFs)\n",
    "            new_method.register(unit=\"EUR{}\".format(EURO_REF_YEAR))\n",
    "            new_method.write(CFs) "
   ]
  },
  {
   "cell_type": "code",
   "execution_count": 115,
   "metadata": {},
   "outputs": [],
   "source": [
    "ics_to_add = [k for k in impact2color.keys() if \"fossil\" not in k]\n",
    "\n",
    "mfs_perspectives_total = mfs_perspectives.sel({\"impact category\": ics_to_add}).sum(dim=\"impact category\")"
   ]
  },
  {
   "cell_type": "code",
   "execution_count": 116,
   "metadata": {},
   "outputs": [],
   "source": [
    "for perspective in list(mfs_perspectives_total.coords[\"perspective\"].values):\n",
    "    new_key = (\"Monetization perspectives\", perspective, \"total costs\")\n",
    "    CFs = []\n",
    "    MFs = mfs_perspectives_total.sel(perspective=perspective)\n",
    "    nonzero = MFs.loc[MFs != 0]\n",
    "    relevant_methods = [m for m in bw.methods if \", \".join(list(m)) in list(nonzero.coords[\"LCIA method\"].values)]\n",
    "    for m in relevant_methods:\n",
    "        mtuple = [m for m in bw.methods if \", \".join(list(m)) == mstr][0]\n",
    "        MF = float(MFs.sel({\"LCIA method\": \", \".join(list(m))}))\n",
    "        for flow in bw.Method(m).load():\n",
    "            new_CF = list(flow)\n",
    "            new_CF[1] = new_CF[1] * MF\n",
    "            CFs.append(new_CF)\n",
    "    CFs = sum_up_CFs(CFs)\n",
    "    new_method = bw.Method(new_key)\n",
    "    new_method.validate(CFs)\n",
    "    new_method.register(unit=\"EUR{}\".format(EURO_REF_YEAR))\n",
    "    new_method.write(CFs)"
   ]
  },
  {
   "cell_type": "markdown",
   "metadata": {},
   "source": [
    "## Export methods as csv"
   ]
  },
  {
   "cell_type": "code",
   "execution_count": 117,
   "metadata": {},
   "outputs": [],
   "source": [
    "def get_method_dataframe(m):\n",
    "    M = bw.Method(m)\n",
    "    CFs = []\n",
    "    names = []\n",
    "    categories = []\n",
    "    for flow in M.load():\n",
    "        CFs.append(flow[1])\n",
    "        act = bw.get_activity(flow[0])\n",
    "        names.append(act[\"name\"])\n",
    "        categories.append(act[\"categories\"])\n",
    "\n",
    "    df = pd.DataFrame(\n",
    "        {\n",
    "            \"flow name\": names,\n",
    "            \"flow categories\": categories,\n",
    "            \"CF\": CFs\n",
    "        },\n",
    "    )\n",
    "\n",
    "    df[\"method\"] = \", \".join(list(m))\n",
    "    df[\"unit\"] = M._get_metadata()[\"unit\"]\n",
    "\n",
    "    return df"
   ]
  },
  {
   "cell_type": "code",
   "execution_count": 118,
   "metadata": {},
   "outputs": [],
   "source": [
    "dflist = []\n",
    "\n",
    "for m in list(bw.methods):\n",
    "    if \"Monetization perspectives\" in m[0]:\n",
    "        dflist.append(get_method_dataframe(m))\n",
    "\n",
    "pd.concat(dflist)[[\"method\", \"unit\", \"flow name\", \"flow categories\", \"CF\"]].to_csv(\"../data/cfs_cost_methods_ei310.csv\", index=False)\n"
   ]
  },
  {
   "cell_type": "code",
   "execution_count": 119,
   "metadata": {},
   "outputs": [
    {
     "data": {
      "text/html": [
       "<div>\n",
       "<style scoped>\n",
       "    .dataframe tbody tr th:only-of-type {\n",
       "        vertical-align: middle;\n",
       "    }\n",
       "\n",
       "    .dataframe tbody tr th {\n",
       "        vertical-align: top;\n",
       "    }\n",
       "\n",
       "    .dataframe thead th {\n",
       "        text-align: right;\n",
       "    }\n",
       "</style>\n",
       "<table border=\"1\" class=\"dataframe\">\n",
       "  <thead>\n",
       "    <tr style=\"text-align: right;\">\n",
       "      <th></th>\n",
       "      <th>method</th>\n",
       "      <th>unit</th>\n",
       "      <th>flow name</th>\n",
       "      <th>flow categories</th>\n",
       "      <th>CF</th>\n",
       "    </tr>\n",
       "  </thead>\n",
       "  <tbody>\n",
       "    <tr>\n",
       "      <th>0</th>\n",
       "      <td>Monetization perspectives, Monte Carlo mean, b...</td>\n",
       "      <td>EUR2022</td>\n",
       "      <td>1,1-Dichloro-1-fluoroethane</td>\n",
       "      <td>('air', 'urban air close to ground')</td>\n",
       "      <td>112.299643</td>\n",
       "    </tr>\n",
       "    <tr>\n",
       "      <th>1</th>\n",
       "      <td>Monetization perspectives, Monte Carlo mean, b...</td>\n",
       "      <td>EUR2022</td>\n",
       "      <td>Ethylene dichloride</td>\n",
       "      <td>('air',)</td>\n",
       "      <td>0.169755</td>\n",
       "    </tr>\n",
       "    <tr>\n",
       "      <th>2</th>\n",
       "      <td>Monetization perspectives, Monte Carlo mean, b...</td>\n",
       "      <td>EUR2022</td>\n",
       "      <td>Dichlorofluoromethane</td>\n",
       "      <td>('air',)</td>\n",
       "      <td>20.892957</td>\n",
       "    </tr>\n",
       "    <tr>\n",
       "      <th>3</th>\n",
       "      <td>Monetization perspectives, Monte Carlo mean, b...</td>\n",
       "      <td>EUR2022</td>\n",
       "      <td>2,2-Dichloro-1,1,1-trifluoroethane</td>\n",
       "      <td>('air',)</td>\n",
       "      <td>11.804521</td>\n",
       "    </tr>\n",
       "    <tr>\n",
       "      <th>4</th>\n",
       "      <td>Monetization perspectives, Monte Carlo mean, b...</td>\n",
       "      <td>EUR2022</td>\n",
       "      <td>Methane, bromochlorodifluoro-, Halon 1211</td>\n",
       "      <td>('air', 'low population density, long-term')</td>\n",
       "      <td>252.021292</td>\n",
       "    </tr>\n",
       "    <tr>\n",
       "      <th>...</th>\n",
       "      <td>...</td>\n",
       "      <td>...</td>\n",
       "      <td>...</td>\n",
       "      <td>...</td>\n",
       "      <td>...</td>\n",
       "    </tr>\n",
       "    <tr>\n",
       "      <th>32410</th>\n",
       "      <td>Monetization perspectives, taxation costs, tot...</td>\n",
       "      <td>EUR2022</td>\n",
       "      <td>Propanol</td>\n",
       "      <td>('air',)</td>\n",
       "      <td>22.360343</td>\n",
       "    </tr>\n",
       "    <tr>\n",
       "      <th>32411</th>\n",
       "      <td>Monetization perspectives, taxation costs, tot...</td>\n",
       "      <td>EUR2022</td>\n",
       "      <td>Fluometuron</td>\n",
       "      <td>('soil', 'agricultural')</td>\n",
       "      <td>51.510475</td>\n",
       "    </tr>\n",
       "    <tr>\n",
       "      <th>32412</th>\n",
       "      <td>Monetization perspectives, taxation costs, tot...</td>\n",
       "      <td>EUR2022</td>\n",
       "      <td>Ethylene glycol monoethyl ether</td>\n",
       "      <td>('air', 'urban air close to ground')</td>\n",
       "      <td>15.509400</td>\n",
       "    </tr>\n",
       "    <tr>\n",
       "      <th>32413</th>\n",
       "      <td>Monetization perspectives, taxation costs, tot...</td>\n",
       "      <td>EUR2022</td>\n",
       "      <td>Beta-cyfluthrin</td>\n",
       "      <td>('air', 'non-urban air or from high stacks')</td>\n",
       "      <td>1498.586461</td>\n",
       "    </tr>\n",
       "    <tr>\n",
       "      <th>32414</th>\n",
       "      <td>Monetization perspectives, taxation costs, tot...</td>\n",
       "      <td>EUR2022</td>\n",
       "      <td>Aniline</td>\n",
       "      <td>('air',)</td>\n",
       "      <td>2.278546</td>\n",
       "    </tr>\n",
       "  </tbody>\n",
       "</table>\n",
       "<p>32415 rows × 5 columns</p>\n",
       "</div>"
      ],
      "text/plain": [
       "                                                  method     unit  \\\n",
       "0      Monetization perspectives, Monte Carlo mean, b...  EUR2022   \n",
       "1      Monetization perspectives, Monte Carlo mean, b...  EUR2022   \n",
       "2      Monetization perspectives, Monte Carlo mean, b...  EUR2022   \n",
       "3      Monetization perspectives, Monte Carlo mean, b...  EUR2022   \n",
       "4      Monetization perspectives, Monte Carlo mean, b...  EUR2022   \n",
       "...                                                  ...      ...   \n",
       "32410  Monetization perspectives, taxation costs, tot...  EUR2022   \n",
       "32411  Monetization perspectives, taxation costs, tot...  EUR2022   \n",
       "32412  Monetization perspectives, taxation costs, tot...  EUR2022   \n",
       "32413  Monetization perspectives, taxation costs, tot...  EUR2022   \n",
       "32414  Monetization perspectives, taxation costs, tot...  EUR2022   \n",
       "\n",
       "                                       flow name  \\\n",
       "0                    1,1-Dichloro-1-fluoroethane   \n",
       "1                            Ethylene dichloride   \n",
       "2                          Dichlorofluoromethane   \n",
       "3             2,2-Dichloro-1,1,1-trifluoroethane   \n",
       "4      Methane, bromochlorodifluoro-, Halon 1211   \n",
       "...                                          ...   \n",
       "32410                                   Propanol   \n",
       "32411                                Fluometuron   \n",
       "32412            Ethylene glycol monoethyl ether   \n",
       "32413                            Beta-cyfluthrin   \n",
       "32414                                    Aniline   \n",
       "\n",
       "                                    flow categories           CF  \n",
       "0              ('air', 'urban air close to ground')   112.299643  \n",
       "1                                          ('air',)     0.169755  \n",
       "2                                          ('air',)    20.892957  \n",
       "3                                          ('air',)    11.804521  \n",
       "4      ('air', 'low population density, long-term')   252.021292  \n",
       "...                                             ...          ...  \n",
       "32410                                      ('air',)    22.360343  \n",
       "32411                      ('soil', 'agricultural')    51.510475  \n",
       "32412          ('air', 'urban air close to ground')    15.509400  \n",
       "32413  ('air', 'non-urban air or from high stacks')  1498.586461  \n",
       "32414                                      ('air',)     2.278546  \n",
       "\n",
       "[32415 rows x 5 columns]"
      ]
     },
     "execution_count": 119,
     "metadata": {},
     "output_type": "execute_result"
    }
   ],
   "source": [
    "df_cost_methods = pd.read_csv(\"../data/cfs_cost_methods_ei310.csv\")\n",
    "df_cost_methods"
   ]
  },
  {
   "cell_type": "code",
   "execution_count": 120,
   "metadata": {},
   "outputs": [],
   "source": [
    "db = bw.Database(\"ecoinvent-3.10-biosphere\")\n",
    "\n",
    "needed_flows = list(df_cost_methods.groupby([\"flow name\", \"flow categories\"]).size().index)\n",
    "flow_mapping = {(act[\"name\"], str(act[\"categories\"])): act.key for act in db}\n",
    "\n",
    "for f in needed_flows:\n",
    "    if f not in flow_mapping.keys():\n",
    "        print(f[0], f[1])"
   ]
  },
  {
   "cell_type": "code",
   "execution_count": 121,
   "metadata": {},
   "outputs": [],
   "source": [
    "for mstr in needed_methods:\n",
    "    matches = [m for m in bw.methods if \", \".join(list(m)) == mstr]\n",
    "    if len(matches) == 1:\n",
    "        M = bw.Method(matches[0])\n",
    "\n",
    "        counter = 0\n",
    "        for flow in M.load():\n",
    "            if flow[0][0] != \"ecoinvent-3.10-biosphere\":\n",
    "                counter += 1\n",
    "        \n",
    "        if counter > 0:\n",
    "            print(\"{}: {} not in correct biosphere.\".format(matches[0], counter))\n",
    "    else:\n",
    "        print(\"{}: Not found!\".format(mstr))"
   ]
  },
  {
   "cell_type": "code",
   "execution_count": 122,
   "metadata": {},
   "outputs": [
    {
     "name": "stdout",
     "output_type": "stream",
     "text": [
      "Removing ('Monetization perspectives', 'Monte Carlo mean', 'by impact category', 'climate change')\n",
      "Removing ('Monetization perspectives', 'Monte Carlo mean', 'by impact category', 'acidification')\n",
      "Removing ('Monetization perspectives', 'Monte Carlo mean', 'by impact category', 'particulate matter formation')\n",
      "Removing ('Monetization perspectives', 'Monte Carlo mean', 'by impact category', 'ozone depletion')\n",
      "Removing ('Monetization perspectives', 'Monte Carlo mean', 'by impact category', 'ionizing radiation')\n",
      "Removing ('Monetization perspectives', 'Monte Carlo mean', 'by impact category', 'fossil resources')\n",
      "Removing ('Monetization perspectives', 'Monte Carlo mean', 'by impact category', 'metal/mineral resources')\n",
      "Removing ('Monetization perspectives', 'Monte Carlo mean', 'by impact category', 'water use')\n",
      "Removing ('Monetization perspectives', 'Monte Carlo mean', 'by impact category', 'human toxicity')\n",
      "Removing ('Monetization perspectives', 'Monte Carlo mean', 'by impact category', 'eutrophication')\n",
      "Removing ('Monetization perspectives', 'Monte Carlo mean', 'by impact category', 'ecotoxicity')\n",
      "Removing ('Monetization perspectives', 'Monte Carlo mean', 'by impact category', 'photochemical oxidant formation')\n",
      "Removing ('Monetization perspectives', 'Monte Carlo mean', 'by impact category', 'land use')\n",
      "Removing ('Monetization perspectives', 'Monte Carlo mean', 'total costs')\n",
      "Removing ('Monetization perspectives', 'budget constraint', 'by impact category', 'acidification')\n",
      "Removing ('Monetization perspectives', 'budget constraint', 'by impact category', 'climate change')\n",
      "Removing ('Monetization perspectives', 'budget constraint', 'by impact category', 'ecotoxicity')\n",
      "Removing ('Monetization perspectives', 'budget constraint', 'by impact category', 'eutrophication')\n",
      "Removing ('Monetization perspectives', 'budget constraint', 'by impact category', 'human toxicity')\n",
      "Removing ('Monetization perspectives', 'budget constraint', 'by impact category', 'ionizing radiation')\n",
      "Removing ('Monetization perspectives', 'budget constraint', 'by impact category', 'land use')\n",
      "Removing ('Monetization perspectives', 'budget constraint', 'by impact category', 'metal/mineral resources')\n",
      "Removing ('Monetization perspectives', 'budget constraint', 'by impact category', 'ozone depletion')\n",
      "Removing ('Monetization perspectives', 'budget constraint', 'by impact category', 'particulate matter formation')\n",
      "Removing ('Monetization perspectives', 'budget constraint', 'by impact category', 'photochemical oxidant formation')\n",
      "Removing ('Monetization perspectives', 'damage costs', 'by impact category', 'acidification')\n",
      "Removing ('Monetization perspectives', 'damage costs', 'by impact category', 'climate change')\n",
      "Removing ('Monetization perspectives', 'damage costs', 'by impact category', 'ecotoxicity')\n",
      "Removing ('Monetization perspectives', 'damage costs', 'by impact category', 'eutrophication')\n",
      "Removing ('Monetization perspectives', 'damage costs', 'by impact category', 'human toxicity')\n",
      "Removing ('Monetization perspectives', 'damage costs', 'by impact category', 'ionizing radiation')\n",
      "Removing ('Monetization perspectives', 'damage costs', 'by impact category', 'land use')\n",
      "Removing ('Monetization perspectives', 'damage costs', 'by impact category', 'ozone depletion')\n",
      "Removing ('Monetization perspectives', 'damage costs', 'by impact category', 'particulate matter formation')\n",
      "Removing ('Monetization perspectives', 'damage costs', 'by impact category', 'photochemical oxidant formation')\n",
      "Removing ('Monetization perspectives', 'damage costs', 'by impact category', 'water use')\n",
      "Removing ('Monetization perspectives', 'prevention costs', 'by impact category', 'acidification')\n",
      "Removing ('Monetization perspectives', 'prevention costs', 'by impact category', 'climate change')\n",
      "Removing ('Monetization perspectives', 'prevention costs', 'by impact category', 'ecotoxicity')\n",
      "Removing ('Monetization perspectives', 'prevention costs', 'by impact category', 'eutrophication')\n",
      "Removing ('Monetization perspectives', 'prevention costs', 'by impact category', 'human toxicity')\n",
      "Removing ('Monetization perspectives', 'prevention costs', 'by impact category', 'land use')\n",
      "Removing ('Monetization perspectives', 'prevention costs', 'by impact category', 'metal/mineral resources')\n",
      "Removing ('Monetization perspectives', 'prevention costs', 'by impact category', 'ozone depletion')\n",
      "Removing ('Monetization perspectives', 'prevention costs', 'by impact category', 'particulate matter formation')\n",
      "Removing ('Monetization perspectives', 'prevention costs', 'by impact category', 'photochemical oxidant formation')\n",
      "Removing ('Monetization perspectives', 'prevention costs', 'by impact category', 'water use')\n",
      "Removing ('Monetization perspectives', 'taxation costs', 'by impact category', 'acidification')\n",
      "Removing ('Monetization perspectives', 'taxation costs', 'by impact category', 'climate change')\n",
      "Removing ('Monetization perspectives', 'taxation costs', 'by impact category', 'ecotoxicity')\n",
      "Removing ('Monetization perspectives', 'taxation costs', 'by impact category', 'eutrophication')\n",
      "Removing ('Monetization perspectives', 'taxation costs', 'by impact category', 'fossil resources')\n",
      "Removing ('Monetization perspectives', 'taxation costs', 'by impact category', 'human toxicity')\n",
      "Removing ('Monetization perspectives', 'taxation costs', 'by impact category', 'ozone depletion')\n",
      "Removing ('Monetization perspectives', 'taxation costs', 'by impact category', 'photochemical oxidant formation')\n",
      "Removing ('Monetization perspectives', 'budget constraint', 'total costs')\n",
      "Removing ('Monetization perspectives', 'damage costs', 'total costs')\n",
      "Removing ('Monetization perspectives', 'prevention costs', 'total costs')\n",
      "Removing ('Monetization perspectives', 'taxation costs', 'total costs')\n"
     ]
    }
   ],
   "source": [
    "# for m in list(bw.methods):\n",
    "#     if \"Monetization perspectives\" in m[0]:\n",
    "#         print(\"Removing \"+str(m))\n",
    "#         bw.Method(m).deregister()"
   ]
  },
  {
   "cell_type": "code",
   "execution_count": null,
   "metadata": {},
   "outputs": [],
   "source": []
  }
 ],
 "metadata": {
  "kernelspec": {
   "display_name": "bwfresh",
   "language": "python",
   "name": "python3"
  },
  "language_info": {
   "codemirror_mode": {
    "name": "ipython",
    "version": 3
   },
   "file_extension": ".py",
   "mimetype": "text/x-python",
   "name": "python",
   "nbconvert_exporter": "python",
   "pygments_lexer": "ipython3",
   "version": "3.11.10"
  }
 },
 "nbformat": 4,
 "nbformat_minor": 2
}
