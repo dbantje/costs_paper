{
 "cells": [
  {
   "cell_type": "markdown",
   "metadata": {},
   "source": [
    "# 06b: Calculate costs\n",
    "\n",
    "In this script, we calculate the following cost estimates for regional averages of impacts\n",
    "\n",
    "- low estimate (0.2 quantile)\n",
    "- median cost\n",
    "- damage costs\n",
    "- prevention costs\n",
    "- taxation costs\n",
    "- budget constraint"
   ]
  },
  {
   "cell_type": "code",
   "execution_count": 1,
   "metadata": {},
   "outputs": [],
   "source": [
    "%run common_definitions.py"
   ]
  },
  {
   "cell_type": "code",
   "execution_count": 2,
   "metadata": {},
   "outputs": [],
   "source": [
    "import pandas as pd\n",
    "import numpy as np\n",
    "import xarray as xr\n",
    "import brightway2 as bw"
   ]
  },
  {
   "cell_type": "code",
   "execution_count": 3,
   "metadata": {},
   "outputs": [],
   "source": [
    "output_fp = \"../output/\" + BW_PROJECTNAME"
   ]
  },
  {
   "cell_type": "code",
   "execution_count": 4,
   "metadata": {},
   "outputs": [],
   "source": [
    "mfs_perspectives_cc = xr.open_dataarray(\"../data/mfs_perspectives_extended_euro_{}.nc\".format(EURO_REF_YEAR))\n",
    "mfs_mc_sample_cc = xr.open_dataarray(\"../data/mfs_monte_carlo_sample_extended_euro{}.nc\".format(str(EURO_REF_YEAR)))"
   ]
  },
  {
   "cell_type": "markdown",
   "metadata": {},
   "source": [
    "We calculate costs for the regional averages."
   ]
  },
  {
   "cell_type": "code",
   "execution_count": 5,
   "metadata": {},
   "outputs": [],
   "source": [
    "def get_quantile_costs(impact_df, q, mfs, contract_dim):\n",
    "    all_costs = xr.DataArray(\n",
    "        np.tensordot(impact_df[list(mfs.coords[\"LCIA method\"].values)].to_numpy(),\n",
    "                    mfs.to_numpy(),\n",
    "                    axes=([1,], [contract_dim,])),\n",
    "        coords={\n",
    "            \"tech index\": list(range(len(impact_df))),\n",
    "            \"impact category\": list(mfs.coords[\"impact category\"].values),\n",
    "            \"sample index\": list(range(mfs.shape[1]))\n",
    "        }\n",
    "    )\n",
    "\n",
    "    a = all_costs.to_numpy()\n",
    "    qcosts = np.where(np.all(a < 0, axis=2),\n",
    "                      np.quantile(a, 1-q, axis=2),\n",
    "                      np.quantile(a, q, axis=2))\n",
    "\n",
    "    return pd.DataFrame(qcosts,\n",
    "                        index=impact_df.index,\n",
    "                        columns=list(mfs.coords[\"impact category\"].values))\n",
    "\n",
    "def get_perspectives_cost(impact_df, mfs):\n",
    "    df_mfs = mfs_perspectives_cc.to_dataframe().reset_index().pivot(\n",
    "        index=[\"perspective\", \"impact category\"],\n",
    "        columns=[\"LCIA method\"],\n",
    "        values=\"value\")\n",
    "    \n",
    "    return pd.DataFrame(\n",
    "        np.tensordot(impact_df[df_mfs.columns].to_numpy(), df_mfs.to_numpy().T, axes=1),\n",
    "        index=impact_df.index,\n",
    "        columns=df_mfs.index\n",
    "    )\n"
   ]
  },
  {
   "cell_type": "markdown",
   "metadata": {},
   "source": [
    "### Full impacts"
   ]
  },
  {
   "cell_type": "code",
   "execution_count": 6,
   "metadata": {},
   "outputs": [],
   "source": [
    "impacts = pd.read_csv(output_fp+\"/impacts_battery_storage.csv\").set_index(\n",
    "    [\"ecoinvent name\", \"scenario\", \"year\", \"location\"])\n",
    "\n",
    "low_costs = get_quantile_costs(impacts, 0.2, mfs_mc_sample_cc, 2)\n",
    "median_costs = get_quantile_costs(impacts, 0.5, mfs_mc_sample_cc, 2)\n",
    "\n",
    "low_costs.reset_index(inplace=True)\n",
    "median_costs.reset_index(inplace=True)\n",
    "\n",
    "low_costs[\"perspective\"] = \"low estimate\"\n",
    "median_costs[\"perspective\"] = \"median\"\n",
    "\n",
    "perspectives_costs = get_perspectives_cost(impacts, mfs_perspectives_cc)\n",
    "\n",
    "perspectives_costs = perspectives_costs.melt(ignore_index=False).reset_index().pivot(\n",
    "    columns=\"impact category\", values=\"value\",\n",
    "    index=[\"ecoinvent name\", \"scenario\", \"year\", \"location\", \"perspective\"])\n",
    "\n",
    "costs_all_perspectives = pd.concat(\n",
    "    (\n",
    "        low_costs,\n",
    "        median_costs,\n",
    "        perspectives_costs.reset_index()\n",
    "    ),\n",
    "    axis=0\n",
    ").set_index([\"ecoinvent name\", \"scenario\", \"year\", \"location\", \"perspective\"]).sort_index()\n",
    "\n",
    "costs_all_perspectives.to_csv(output_fp+\"/costs_battery_storage.csv\")"
   ]
  },
  {
   "cell_type": "markdown",
   "metadata": {},
   "source": [
    "## Get capacity ratios and capacity factors"
   ]
  },
  {
   "cell_type": "code",
   "execution_count": 15,
   "metadata": {},
   "outputs": [],
   "source": [
    "def read_mif(fp):\n",
    "    return pd.read_csv(fp, sep=\";\").iloc[:, :-1]\n",
    "\n",
    "def get_ratios(mif, var1, var2, years, s1=1.0, s2=1.0):\n",
    "    sel = mif[[\"Variable\", \"Region\"]+[str(y) for y in years]]\n",
    "\n",
    "    df1 = sel[sel[\"Variable\"] == var1].set_index([\"Region\"]).drop(columns=\"Variable\").astype(float)\n",
    "    df2 = sel[sel[\"Variable\"] == var2].set_index([\"Region\"]).drop(columns=\"Variable\").astype(float)\n",
    "\n",
    "    return (s1 * df1) / (s2 * df2)\n",
    "\n",
    "def select_var(mif, var, years):\n",
    "    sel = mif[[\"Variable\", \"Region\"]+[str(y) for y in years]]\n",
    "    df1 = sel[sel[\"Variable\"] == var].set_index([\"Region\"]).drop(columns=\"Variable\").astype(float)\n",
    "\n",
    "    return df1\n",
    "\n"
   ]
  },
  {
   "cell_type": "code",
   "execution_count": 8,
   "metadata": {},
   "outputs": [],
   "source": [
    "storage_vars = [\n",
    "    \"New Cap|Electricity|Storage|Battery|For PV\",\n",
    "    \"New Cap|Electricity|Storage|Battery|For Wind\",\n",
    "]\n",
    "\n",
    "elec_vars = [\n",
    "    \"New Cap|Electricity|Solar|+|PV\",\n",
    "    \"New Cap|Electricity|Wind|+|Onshore\",\n",
    "]\n",
    "\n",
    "techs = [\n",
    "    \"PV commercial\",\n",
    "    \"wind, onshore, medium\",\n",
    "]\n",
    "\n",
    "dflist = []\n",
    "for scen in SCENARIOS_BATTERIES:\n",
    "    mif = read_mif(\"../data/REMIND_generic_{}.mif\".format(scen))\n",
    "    \n",
    "    for tech, v1, v2 in zip(techs, storage_vars, elec_vars):\n",
    "        df = get_ratios(mif, v1, v2, YEARS).reset_index()\n",
    "        df[\"scenario\"] = scen\n",
    "        df[\"short name\"] = tech\n",
    "        dflist.append(df)\n",
    "\n",
    "df = pd.concat(dflist).rename(columns={\"Region\": \"region\"}).set_index([\"short name\", \"scenario\", \"region\"])\n",
    "cap_ratios = df.melt(ignore_index=False, var_name=\"year\", value_name=\"capacity ratio\")\n",
    "\n",
    "cap_ratios.reset_index().to_csv(output_fp + \"/capacity_ratios_battery_storage_new_cap.csv\", index=False)\n"
   ]
  },
  {
   "cell_type": "code",
   "execution_count": 9,
   "metadata": {},
   "outputs": [],
   "source": [
    "storage_vars = [\n",
    "    \"Cap|Electricity|Storage|Battery|For PV\",\n",
    "    \"Cap|Electricity|Storage|Battery|For Wind\",\n",
    "]\n",
    "\n",
    "elec_vars = [\n",
    "    \"Cap|Electricity|Solar|+|PV\",\n",
    "    \"Cap|Electricity|Wind|+|Onshore\",\n",
    "]\n",
    "\n",
    "techs = [\n",
    "    \"PV commercial\",\n",
    "    \"wind, onshore, medium\",\n",
    "]\n",
    "\n",
    "dflist = []\n",
    "for scen in SCENARIOS_BATTERIES:\n",
    "    mif = read_mif(\"../data/REMIND_generic_{}.mif\".format(scen))\n",
    "    \n",
    "    for tech, v1, v2 in zip(techs, storage_vars, elec_vars):\n",
    "        df = get_ratios(mif, v1, v2, YEARS).reset_index()\n",
    "        df[\"scenario\"] = scen\n",
    "        df[\"short name\"] = tech\n",
    "        dflist.append(df)\n",
    "\n",
    "df = pd.concat(dflist).rename(columns={\"Region\": \"region\"}).set_index([\"short name\", \"scenario\", \"region\"])\n",
    "cap_ratios = df.melt(ignore_index=False, var_name=\"year\", value_name=\"capacity ratio\")\n",
    "\n",
    "cap_ratios.reset_index().to_csv(output_fp + \"/capacity_ratios_battery_storage_total_cap.csv\", index=False)"
   ]
  },
  {
   "cell_type": "code",
   "execution_count": 10,
   "metadata": {},
   "outputs": [],
   "source": [
    "production_vars = [\n",
    "    \"SE|Electricity|Solar|+|PV\",\n",
    "    \"SE|Electricity|Wind|+|Onshore\",\n",
    "]\n",
    "\n",
    "cap_vars = [\n",
    "    \"Cap|Electricity|Solar|+|PV\",\n",
    "    \"Cap|Electricity|Wind|+|Onshore\",\n",
    "]\n",
    "\n",
    "techs = [\n",
    "    \"PV commercial\",\n",
    "    \"wind, onshore, medium\",\n",
    "]\n",
    "\n",
    "# scaling factors\n",
    "scap = 1e-03 # from giga to tera-watt\n",
    "sprod = 31.71e-03 # EJ to TWa\n",
    "\n",
    "dflist = []\n",
    "for scen in SCENARIOS_BATTERIES:\n",
    "    mif = read_mif(\"../data/REMIND_generic_{}.mif\".format(scen))\n",
    "    \n",
    "    for tech, vprod, vcap in zip(techs, production_vars, cap_vars):\n",
    "        df = get_ratios(mif, vprod, vcap, YEARS, s1=sprod, s2=scap).reset_index()\n",
    "        df[\"scenario\"] = scen\n",
    "        df[\"short name\"] = tech\n",
    "        dflist.append(df)\n",
    "\n",
    "df = pd.concat(dflist).rename(columns={\"Region\": \"region\"}).set_index([\"short name\", \"scenario\", \"region\"])\n",
    "cap_ratios = df.melt(ignore_index=False, var_name=\"year\", value_name=\"capacity factor\")\n",
    "\n",
    "cap_ratios.reset_index().to_csv(output_fp + \"/capacity_factors_VRE.csv\", index=False)"
   ]
  },
  {
   "cell_type": "markdown",
   "metadata": {},
   "source": [
    "## Get shares of wind vs solar PV in VRE mixes by region"
   ]
  },
  {
   "cell_type": "code",
   "execution_count": 11,
   "metadata": {},
   "outputs": [],
   "source": [
    "bw.projects.set_current(BW_PROJECTNAME)"
   ]
  },
  {
   "cell_type": "code",
   "execution_count": 12,
   "metadata": {},
   "outputs": [],
   "source": [
    "def get_dbname(scen, year):\n",
    "    matches = [db for db in bw.databases if \"{}_{}\".format(scen, year) in db]\n",
    "\n",
    "    return matches[0]"
   ]
  },
  {
   "cell_type": "code",
   "execution_count": 13,
   "metadata": {},
   "outputs": [
    {
     "name": "stdout",
     "output_type": "stream",
     "text": [
      "SSP2-NPi, 2020 done.\n",
      "SSP2-NPi, 2030 done.\n",
      "SSP2-NPi, 2040 done.\n",
      "SSP2-NPi, 2050 done.\n",
      "SSP2-PkBudg500, 2020 done.\n",
      "SSP2-PkBudg500, 2030 done.\n",
      "SSP2-PkBudg500, 2040 done.\n",
      "SSP2-PkBudg500, 2050 done.\n"
     ]
    }
   ],
   "source": [
    "dflist = []\n",
    "for scen in SCENARIOS:\n",
    "    for year in YEARS:\n",
    "        dbname = get_dbname(scen, year)\n",
    "        db = bw.Database(dbname)\n",
    "        matches = [act for act in db if act[\"name\"] == \"market group for electricity, high voltage, VRE inputs\"]\n",
    "        data = {}\n",
    "        for act in matches:\n",
    "            onshore_input = 0\n",
    "            PV_input = 0\n",
    "            for exc in act.technosphere():\n",
    "                input = exc.input[\"name\"]\n",
    "                if \"photovoltaic\" in input:\n",
    "                    PV_input += exc.amount\n",
    "                if \"wind\" in input and \"onshore\" in input:\n",
    "                    onshore_input += exc.amount\n",
    "            data[act[\"location\"]] = {\"PV commercial\": PV_input, \"wind, onshore, medium\": onshore_input}\n",
    "        df = pd.DataFrame(data)\n",
    "        df.index.name = \"short name\"\n",
    "        df = df.reset_index()\n",
    "        df[\"scenario\"] = scen\n",
    "        df[\"year\"] = year\n",
    "        dflist.append(df)\n",
    "\n",
    "        print(f\"{scen}, {year} done.\")\n"
   ]
  },
  {
   "cell_type": "code",
   "execution_count": 14,
   "metadata": {},
   "outputs": [],
   "source": [
    "pd.concat(dflist).melt(id_vars=[\"scenario\", \"year\", \"short name\"], value_vars=REMIND_REGIONS,\n",
    "                       var_name=\"region\", value_name=\"share\").to_csv(output_fp+\"/vre_input_shares.csv\", index=False)"
   ]
  },
  {
   "cell_type": "markdown",
   "metadata": {},
   "source": [
    "## Get PEM efficiencies"
   ]
  },
  {
   "cell_type": "code",
   "execution_count": 19,
   "metadata": {},
   "outputs": [],
   "source": [
    "dflist = []\n",
    "for scen in SCENARIOS_BATTERIES:\n",
    "    mif = read_mif(\"../data/REMIND_generic_{}.mif\".format(scen))\n",
    "\n",
    "    df = select_var(mif, \"Tech|Hydrogen|Electricity|Efficiency\", YEARS).reset_index()\n",
    "    df[\"scenario\"] = scen\n",
    "    dflist.append(df)\n",
    "\n",
    "df = pd.concat(dflist).rename(columns={\"Region\": \"region\"}).set_index([\"scenario\", \"region\"])\n",
    "efficiencies = df.melt(ignore_index=False, var_name=\"year\", value_name=\"PEM efficiency\")\n",
    "efficiencies.reset_index().to_csv(output_fp + \"/PEM_efficiencies.csv\", index=False)\n"
   ]
  },
  {
   "cell_type": "code",
   "execution_count": null,
   "metadata": {},
   "outputs": [],
   "source": []
  }
 ],
 "metadata": {
  "kernelspec": {
   "display_name": "costs_paper",
   "language": "python",
   "name": "python3"
  },
  "language_info": {
   "codemirror_mode": {
    "name": "ipython",
    "version": 3
   },
   "file_extension": ".py",
   "mimetype": "text/x-python",
   "name": "python",
   "nbconvert_exporter": "python",
   "pygments_lexer": "ipython3",
   "version": "3.10.16"
  }
 },
 "nbformat": 4,
 "nbformat_minor": 2
}
