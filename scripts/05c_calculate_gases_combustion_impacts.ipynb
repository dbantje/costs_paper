{
 "cells": [
  {
   "cell_type": "markdown",
   "metadata": {},
   "source": [
    "# 05c: Calculate combustion impacts for hydrogen and gases\n",
    "\n",
    "Equivalently as for liquid fuels, we also calculate the impacts from combustion of hydrogen and gases to later add to the production impacts."
   ]
  },
  {
   "cell_type": "code",
   "execution_count": 1,
   "metadata": {},
   "outputs": [],
   "source": [
    "%run common_definitions.py"
   ]
  },
  {
   "cell_type": "code",
   "execution_count": 2,
   "metadata": {},
   "outputs": [],
   "source": [
    "import pandas as pd\n",
    "import numpy as np\n",
    "import xarray as xr\n",
    "\n",
    "import brightway2 as bw"
   ]
  },
  {
   "cell_type": "code",
   "execution_count": 8,
   "metadata": {},
   "outputs": [],
   "source": [
    "bw.projects.set_current(BW_PROJECTNAME)\n",
    "output_fp = \"../output/\" + BW_PROJECTNAME"
   ]
  },
  {
   "cell_type": "markdown",
   "metadata": {},
   "source": [
    "### Get lookup dictionary for database codes of biosphere flows"
   ]
  },
  {
   "cell_type": "code",
   "execution_count": 9,
   "metadata": {},
   "outputs": [],
   "source": [
    "def category_tuple_to_str(tpl):\n",
    "    return \"::\".join(list(tpl))"
   ]
  },
  {
   "cell_type": "code",
   "execution_count": 19,
   "metadata": {},
   "outputs": [],
   "source": [
    "DF_BASE = pd.read_csv(\"../data/hydrogen_and_gases_combustion_efs.csv\")\n",
    "BS = bw.Database(\"biosphere3\")\n",
    "\n",
    "flow2code = DF_BASE.groupby([\"name\", \"categories\"]).count().reset_index()[[\"name\", \"categories\"]]\n",
    "matches = []\n",
    "for name, cat in zip(flow2code[\"name\"], flow2code[\"categories\"]):\n",
    "        matches_name = [flow for flow in BS if flow[\"name\"] == name]\n",
    "        matches_cat = [flow for flow in matches_name if category_tuple_to_str(flow[\"categories\"]) == cat]\n",
    "        if len(matches_cat) == 1:\n",
    "            matches.append(matches_cat[0])\n",
    "        else:\n",
    "            raise ValueError(\"Not exactly one matching flow found for {}, {}!\".format(name, cat))\n",
    "\n",
    "flow2code[\"code\"] = [flow[\"code\"] for flow in matches]"
   ]
  },
  {
   "cell_type": "code",
   "execution_count": 20,
   "metadata": {},
   "outputs": [],
   "source": [
    "flow2code = flow2code.set_index([\"name\", \"categories\"])[\"code\"]"
   ]
  },
  {
   "cell_type": "markdown",
   "metadata": {},
   "source": [
    "### Create full dataframe of emission factors from base fuels"
   ]
  },
  {
   "cell_type": "code",
   "execution_count": 21,
   "metadata": {},
   "outputs": [],
   "source": [
    "def get_biosphere_exchanges(base_fuel):\n",
    "    df = DF_BASE[DF_BASE[\"fuel name\"] == base_fuel][[\"name\", \"categories\", \"amount\"]]\n",
    "\n",
    "    # get codes from lookup\n",
    "    df[\"code\"] = [flow2code.loc[(n, c)] for n, c in zip(df[\"name\"], df[\"categories\"])]\n",
    "\n",
    "    return df"
   ]
  },
  {
   "cell_type": "code",
   "execution_count": 8,
   "metadata": {},
   "outputs": [],
   "source": [
    "\n",
    "def get_suffix(row):\n",
    "    return \", burned in \" + row[\"base_fuel\"].split(\", \")[-1]\n",
    "\n",
    "def get_ncv(row):\n",
    "    prod = row[\"reference product\"]\n",
    "\n",
    "    df_ncvs = pd.read_csv(\"../data/NCVs_v2.csv\")\n",
    "    return df_ncvs.set_index(\"product name\").loc[prod][\"NCV in MJ/product\"]"
   ]
  },
  {
   "cell_type": "code",
   "execution_count": 22,
   "metadata": {},
   "outputs": [],
   "source": [
    "mapping = pd.read_csv(\"../mappings/hydrogen_and_gases_2_combustion_exchanges.csv\")\n",
    "long2short = dict(zip(list(mapping[\"ecoinvent name\"]), list(mapping[\"short name\"])))"
   ]
  },
  {
   "cell_type": "code",
   "execution_count": 23,
   "metadata": {},
   "outputs": [
    {
     "data": {
      "text/plain": [
       "{'petroleum and gas production, onshore': 'natural gas, onshore',\n",
       " 'petroleum and gas production, offshore': 'natural gas, offshore',\n",
       " 'biomethane production, from biogas upgrading, using amine scrubbing': 'biomethane, amine scrubbing',\n",
       " 'treatment of biowaste by anaerobic digestion': 'biogas, biowaste',\n",
       " 'treatment of sewage sludge by anaerobic digestion': 'biogas, sewage sludge',\n",
       " 'treatment of used vegetable cooking oil by anaerobic digestion': 'biogas, used vegetable cooking oil',\n",
       " 'hydrogen production, gaseous, 100 bar, from methane pyrolysis': 'hydrogen, methane pyrolysis',\n",
       " 'hydrogen production, gaseous, 25 bar, from gasification of woody biomass in entrained flow gasifier, at gasification plant': 'hydrogen, woody biomass',\n",
       " 'hydrogen production, gaseous, 25 bar, from gasification of woody biomass in entrained flow gasifier, with CCS, at gasification plant': 'hydrogen, woody biomass, CCS',\n",
       " 'hydrogen production, gaseous, 25 bar, from thermochemical water splitting, at solar tower': 'hydrogen, water splitting',\n",
       " 'hydrogen production, gaseous, 30 bar, from hard coal gasification and reforming, at coal gasification plant': 'hydrogen, hard coal',\n",
       " 'hydrogen production, gaseous, 30 bar, from hard coal gasification and reforming, with CCS, at coal gasification plant': 'hydrogen, hard coal, CCS',\n",
       " 'hydrogen production, gaseous, 30 bar, from PEM electrolysis, from grid electricity': 'hydrogen, PEM electrolysis',\n",
       " 'hydrogen production, gaseous, 30 bar, from PEM electrolysis, VRE inputs': 'hydrogen, PEM electrolysis, VRE',\n",
       " 'hydrogen production, steam methane reforming of natural gas, 25 bar': 'hydrogen, natural gas',\n",
       " 'hydrogen production, steam methane reforming of natural gas, with CCS (MDEA, 98% eff.), 25 bar': 'hydrogen, natural gas, CCS',\n",
       " 'hydrogen production, steam methane reforming, from biomethane, high and low temperature, 26 bar': 'hydrogen, biomethane',\n",
       " 'hydrogen production, steam methane reforming, from biomethane, high and low temperature, with CCS (MDEA, 98% eff.), 26 bar': 'hydrogen, biomethane, CCS'}"
      ]
     },
     "execution_count": 23,
     "metadata": {},
     "output_type": "execute_result"
    }
   ],
   "source": [
    "long2short"
   ]
  },
  {
   "cell_type": "code",
   "execution_count": 25,
   "metadata": {},
   "outputs": [],
   "source": [
    "dflist = []\n",
    "for idx, row in mapping.iterrows():\n",
    "    df_bs = get_biosphere_exchanges(row[\"base_fuel\"])\n",
    "    df_bs[\"ecoinvent name\"] = row[\"ecoinvent name\"]\n",
    "    dflist.append(df_bs)\n",
    "\n",
    "all_efs = pd.concat(dflist, axis=0)\n",
    "all_efs.to_csv(\"../data/hydrogen_and_gases_combustion_all_efs.csv\", index=False)"
   ]
  },
  {
   "cell_type": "markdown",
   "metadata": {},
   "source": [
    "### Calculate the impacts for the needed LCIA methods"
   ]
  },
  {
   "cell_type": "code",
   "execution_count": 26,
   "metadata": {},
   "outputs": [],
   "source": [
    "def get_cfs(keys, methods):\n",
    "    # initialize values\n",
    "    cfs = np.zeros((len(keys), len(methods)))\n",
    "\n",
    "    # loop through methods\n",
    "    for j, m in enumerate(methods):\n",
    "        print(\"Collecting CFs for method {} of {}, {}\".format(j+1, len(methods), str(m)))\n",
    "        for flow in bw.Method(m).load():\n",
    "            key = flow[0][1]\n",
    "            if key in keys:\n",
    "                i = keys.index(key)\n",
    "                cfs[i,j] = flow[1]\n",
    "\n",
    "    # construct array\n",
    "    da = xr.DataArray(\n",
    "        cfs,\n",
    "        coords={\n",
    "            \"code\": keys,\n",
    "            \"LCIA method\": [\", \".join(list(m)) for m in methods]\n",
    "        }\n",
    "    )\n",
    "\n",
    "    return da"
   ]
  },
  {
   "cell_type": "code",
   "execution_count": 27,
   "metadata": {},
   "outputs": [
    {
     "name": "stdout",
     "output_type": "stream",
     "text": [
      "73 methods needed, 73 methods found\n"
     ]
    }
   ],
   "source": [
    "df2 = pd.read_csv(\"../data/mfs_all_factors.csv\").dropna(subset=\"LCIA method\")\n",
    "\n",
    "needed_methods = list(df2[\"LCIA method\"].unique())\n",
    "methods = [m for m in list(bw.methods) if \", \".join(list(m)) in needed_methods]\n",
    "\n",
    "cc_methods = [\n",
    "    (\"IPCC 2021\", \"climate change: biogenic\", \"GWP 100a\"),\n",
    "    (\"IPCC 2021\", \"climate change: land use\", \"GWP 100a\"),\n",
    "    (\"IPCC 2021\", \"climate change: fossil\", \"GWP 100a\")\n",
    "]\n",
    "methods = methods + cc_methods\n",
    "\n",
    "print(\"{} methods needed, {} methods found\".format(len(needed_methods)+len(cc_methods), len(methods)))"
   ]
  },
  {
   "cell_type": "code",
   "execution_count": 28,
   "metadata": {},
   "outputs": [],
   "source": [
    "unique_keys = list(all_efs[\"code\"].unique())"
   ]
  },
  {
   "cell_type": "code",
   "execution_count": 29,
   "metadata": {},
   "outputs": [
    {
     "name": "stdout",
     "output_type": "stream",
     "text": [
      "Collecting CFs for method 1 of 73, ('CML v4.8 2016', 'acidification', 'acidification (incl. fate, average Europe total, A&B)')\n",
      "Collecting CFs for method 2 of 73, ('CML v4.8 2016', 'energy resources: non-renewable', 'abiotic depletion potential (ADP): fossil fuels')\n",
      "Collecting CFs for method 3 of 73, ('CML v4.8 2016', 'eutrophication', 'eutrophication (fate not incl.)')\n",
      "Collecting CFs for method 4 of 73, ('CML v4.8 2016', 'material resources: metals/minerals', 'abiotic depletion potential (ADP): elements (ultimate reserves)')\n",
      "Collecting CFs for method 5 of 73, ('CML v4.8 2016', 'ozone depletion', 'ozone layer depletion (ODP steady state)')\n",
      "Collecting CFs for method 6 of 73, ('CML v4.8 2016', 'photochemical oxidant formation', 'photochemical oxidation (high NOx)')\n",
      "Collecting CFs for method 7 of 73, ('EDIP 2003', 'acidification', 'acidification')\n",
      "Collecting CFs for method 8 of 73, ('EDIP 2003', 'eutrophication', 'combined potential')\n",
      "Collecting CFs for method 9 of 73, ('EDIP 2003', 'eutrophication', 'terrestrial eutrophication')\n",
      "Collecting CFs for method 10 of 73, ('EDIP 2003', 'photochemical ozone formation', 'impacts on human health')\n",
      "Collecting CFs for method 11 of 73, ('EDIP 2003', 'photochemical ozone formation', 'impacts on vegetation')\n",
      "Collecting CFs for method 12 of 73, ('EF v3.1', 'acidification', 'accumulated exceedance (AE)')\n",
      "Collecting CFs for method 13 of 73, ('EF v3.1', 'ecotoxicity: freshwater', 'comparative toxic unit for ecosystems (CTUe)')\n",
      "Collecting CFs for method 14 of 73, ('EF v3.1', 'energy resources: non-renewable', 'abiotic depletion potential (ADP): fossil fuels')\n",
      "Collecting CFs for method 15 of 73, ('EF v3.1', 'eutrophication: freshwater', 'fraction of nutrients reaching freshwater end compartment (P)')\n",
      "Collecting CFs for method 16 of 73, ('EF v3.1', 'eutrophication: marine', 'fraction of nutrients reaching marine end compartment (N)')\n",
      "Collecting CFs for method 17 of 73, ('EF v3.1', 'eutrophication: terrestrial', 'accumulated exceedance (AE)')\n",
      "Collecting CFs for method 18 of 73, ('EF v3.1', 'human toxicity: carcinogenic', 'comparative toxic unit for human (CTUh)')\n",
      "Collecting CFs for method 19 of 73, ('EF v3.1', 'human toxicity: non-carcinogenic', 'comparative toxic unit for human (CTUh)')\n",
      "Collecting CFs for method 20 of 73, ('EF v3.1', 'ionising radiation: human health', 'human exposure efficiency relative to u235')\n",
      "Collecting CFs for method 21 of 73, ('EF v3.1', 'land use', 'soil quality index')\n",
      "Collecting CFs for method 22 of 73, ('EF v3.1', 'material resources: metals/minerals', 'abiotic depletion potential (ADP): elements (ultimate reserves)')\n",
      "Collecting CFs for method 23 of 73, ('EF v3.1', 'ozone depletion', 'ozone depletion potential (ODP)')\n",
      "Collecting CFs for method 24 of 73, ('EF v3.1', 'particulate matter formation', 'impact on human health')\n",
      "Collecting CFs for method 25 of 73, ('EF v3.1', 'photochemical oxidant formation: human health', 'tropospheric ozone concentration increase')\n",
      "Collecting CFs for method 26 of 73, ('EF v3.1', 'water use', 'user deprivation potential (deprivation-weighted water consumption)')\n",
      "Collecting CFs for method 27 of 73, ('IMPACT 2002+ (Endpoint)', 'ecosystem quality', 'aquatic ecotoxicity')\n",
      "Collecting CFs for method 28 of 73, ('IMPACT 2002+ (Endpoint)', 'ecosystem quality', 'land occupation')\n",
      "Collecting CFs for method 29 of 73, ('IMPACT 2002+ (Endpoint)', 'ecosystem quality', 'terrestrial ecotoxicity')\n",
      "Collecting CFs for method 30 of 73, ('IMPACT 2002+ (Endpoint)', 'human health', 'human toxicity')\n",
      "Collecting CFs for method 31 of 73, ('IMPACT 2002+ (Endpoint)', 'human health', 'ionising radiation')\n",
      "Collecting CFs for method 32 of 73, ('IMPACT 2002+ (Endpoint)', 'human health', 'ozone layer depletion')\n",
      "Collecting CFs for method 33 of 73, ('IMPACT 2002+ (Endpoint)', 'human health', 'respiratory effects (inorganics)')\n",
      "Collecting CFs for method 34 of 73, ('IMPACT 2002+ (Endpoint)', 'resources', 'mineral extraction')\n",
      "Collecting CFs for method 35 of 73, ('ReCiPe 2016 v1.03, midpoint (H)', 'acidification: terrestrial', 'terrestrial acidification potential (TAP)')\n",
      "Collecting CFs for method 36 of 73, ('ReCiPe 2016 v1.03, midpoint (H)', 'ecotoxicity: freshwater', 'freshwater ecotoxicity potential (FETP)')\n",
      "Collecting CFs for method 37 of 73, ('ReCiPe 2016 v1.03, midpoint (H)', 'ecotoxicity: marine', 'marine ecotoxicity potential (METP)')\n",
      "Collecting CFs for method 38 of 73, ('ReCiPe 2016 v1.03, midpoint (H)', 'ecotoxicity: terrestrial', 'terrestrial ecotoxicity potential (TETP)')\n",
      "Collecting CFs for method 39 of 73, ('ReCiPe 2016 v1.03, midpoint (H)', 'energy resources: non-renewable, fossil', 'fossil fuel potential (FFP)')\n",
      "Collecting CFs for method 40 of 73, ('ReCiPe 2016 v1.03, midpoint (H)', 'eutrophication: freshwater', 'freshwater eutrophication potential (FEP)')\n",
      "Collecting CFs for method 41 of 73, ('ReCiPe 2016 v1.03, midpoint (H)', 'eutrophication: marine', 'marine eutrophication potential (MEP)')\n",
      "Collecting CFs for method 42 of 73, ('ReCiPe 2016 v1.03, midpoint (H)', 'human toxicity: carcinogenic', 'human toxicity potential (HTPc)')\n",
      "Collecting CFs for method 43 of 73, ('ReCiPe 2016 v1.03, midpoint (H)', 'human toxicity: non-carcinogenic', 'human toxicity potential (HTPnc)')\n",
      "Collecting CFs for method 44 of 73, ('ReCiPe 2016 v1.03, midpoint (H)', 'ionising radiation', 'ionising radiation potential (IRP)')\n",
      "Collecting CFs for method 45 of 73, ('ReCiPe 2016 v1.03, midpoint (H)', 'land use', 'agricultural land occupation (LOP)')\n",
      "Collecting CFs for method 46 of 73, ('ReCiPe 2016 v1.03, midpoint (H)', 'material resources: metals/minerals', 'surplus ore potential (SOP)')\n",
      "Collecting CFs for method 47 of 73, ('ReCiPe 2016 v1.03, midpoint (H)', 'ozone depletion', 'ozone depletion potential (ODPinfinite)')\n",
      "Collecting CFs for method 48 of 73, ('ReCiPe 2016 v1.03, midpoint (H)', 'particulate matter formation', 'particulate matter formation potential (PMFP)')\n",
      "Collecting CFs for method 49 of 73, ('ReCiPe 2016 v1.03, midpoint (H)', 'photochemical oxidant formation: human health', 'photochemical oxidant formation potential: humans (HOFP)')\n",
      "Collecting CFs for method 50 of 73, ('ReCiPe 2016 v1.03, midpoint (H)', 'photochemical oxidant formation: terrestrial ecosystems', 'photochemical oxidant formation potential: ecosystems (EOFP)')\n",
      "Collecting CFs for method 51 of 73, ('ReCiPe 2016 v1.03, midpoint (H)', 'water use', 'water consumption potential (WCP)')\n",
      "Collecting CFs for method 52 of 73, ('IPCC 2021', 'climate change', 'GWP 100a, incl. H and bio CO2')\n",
      "Collecting CFs for method 53 of 73, ('Eco-costs', 'Material scarcity', 'VAR(95)')\n",
      "Collecting CFs for method 54 of 73, ('ReCiPe Midpoint (H) V1.13', 'agricultural land occupation', 'ALOP')\n",
      "Collecting CFs for method 55 of 73, ('ReCiPe Midpoint (H) V1.13', 'ozone depletion', 'ODPinf')\n",
      "Collecting CFs for method 56 of 73, ('ReCiPe Midpoint (H) V1.13', 'terrestrial acidification', 'TAP100')\n",
      "Collecting CFs for method 57 of 73, ('ReCiPe Midpoint (H) V1.13', 'photochemical oxidant formation', 'POFP')\n",
      "Collecting CFs for method 58 of 73, ('ReCiPe Midpoint (H) V1.13', 'metal depletion', 'MDP')\n",
      "Collecting CFs for method 59 of 73, ('ReCiPe Midpoint (H) V1.13', 'water depletion', 'WDP')\n",
      "Collecting CFs for method 60 of 73, ('ReCiPe Midpoint (H) V1.13', 'freshwater ecotoxicity', 'FETPinf')\n",
      "Collecting CFs for method 61 of 73, ('ReCiPe Midpoint (H) V1.13', 'human toxicity', 'HTPinf')\n",
      "Collecting CFs for method 62 of 73, ('ReCiPe Midpoint (H) V1.13', 'urban land occupation', 'ULOP')\n",
      "Collecting CFs for method 63 of 73, ('ReCiPe Midpoint (H) V1.13', 'particulate matter formation', 'PMFP')\n",
      "Collecting CFs for method 64 of 73, ('ReCiPe Midpoint (H) V1.13', 'freshwater eutrophication', 'FEP')\n",
      "Collecting CFs for method 65 of 73, ('ReCiPe Midpoint (H) V1.13', 'natural land transformation', 'NLTP')\n",
      "Collecting CFs for method 66 of 73, ('ReCiPe Midpoint (H) V1.13', 'marine eutrophication', 'MEP')\n",
      "Collecting CFs for method 67 of 73, ('ReCiPe Midpoint (H) V1.13', 'terrestrial ecotoxicity', 'TETPinf')\n",
      "Collecting CFs for method 68 of 73, ('ReCiPe Midpoint (H) V1.13', 'fossil depletion', 'FDP')\n",
      "Collecting CFs for method 69 of 73, ('ReCiPe Midpoint (H) V1.13', 'ionising radiation', 'IRP_HE')\n",
      "Collecting CFs for method 70 of 73, ('ReCiPe Midpoint (H) V1.13', 'marine ecotoxicity', 'METPinf')\n",
      "Collecting CFs for method 71 of 73, ('IPCC 2021', 'climate change: biogenic', 'GWP 100a')\n",
      "Collecting CFs for method 72 of 73, ('IPCC 2021', 'climate change: land use', 'GWP 100a')\n",
      "Collecting CFs for method 73 of 73, ('IPCC 2021', 'climate change: fossil', 'GWP 100a')\n"
     ]
    }
   ],
   "source": [
    "cfs = get_cfs(unique_keys, methods)"
   ]
  },
  {
   "cell_type": "markdown",
   "metadata": {},
   "source": [
    "### Build emission factor data array"
   ]
  },
  {
   "cell_type": "code",
   "execution_count": 30,
   "metadata": {},
   "outputs": [],
   "source": [
    "ef_xr = all_efs.set_index([\"ecoinvent name\", \"code\"])[\"amount\"].to_xarray().fillna(0)"
   ]
  },
  {
   "cell_type": "markdown",
   "metadata": {},
   "source": [
    "### Calculate impacts\n",
    "\n",
    "Impacts are simply the (matrix) product of characterization and emission factors."
   ]
  },
  {
   "cell_type": "code",
   "execution_count": 31,
   "metadata": {},
   "outputs": [],
   "source": [
    "impacts = (ef_xr * cfs).sum(dim=\"code\")\n",
    "impact_df = impacts.to_pandas()"
   ]
  },
  {
   "cell_type": "code",
   "execution_count": 32,
   "metadata": {},
   "outputs": [],
   "source": [
    "impact_df.to_csv(output_fp+\"/impacts_hydrogen_and_gases_combustion.csv\")"
   ]
  },
  {
   "cell_type": "code",
   "execution_count": null,
   "metadata": {},
   "outputs": [],
   "source": []
  }
 ],
 "metadata": {
  "kernelspec": {
   "display_name": "costs_paper",
   "language": "python",
   "name": "python3"
  },
  "language_info": {
   "codemirror_mode": {
    "name": "ipython",
    "version": 3
   },
   "file_extension": ".py",
   "mimetype": "text/x-python",
   "name": "python",
   "nbconvert_exporter": "python",
   "pygments_lexer": "ipython3",
   "version": "3.10.13"
  }
 },
 "nbformat": 4,
 "nbformat_minor": 2
}
